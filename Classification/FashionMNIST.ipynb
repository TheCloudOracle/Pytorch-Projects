{
 "cells": [
  {
   "cell_type": "code",
   "execution_count": 1,
   "id": "2ef0696d",
   "metadata": {
    "_cell_guid": "b1076dfc-b9ad-4769-8c92-a6c4dae69d19",
    "_uuid": "8f2839f25d086af736a60e9eeb907d3b93b6e0e5",
    "execution": {
     "iopub.execute_input": "2025-04-13T08:47:51.560750Z",
     "iopub.status.busy": "2025-04-13T08:47:51.560339Z",
     "iopub.status.idle": "2025-04-13T08:47:52.385148Z",
     "shell.execute_reply": "2025-04-13T08:47:52.384501Z"
    },
    "papermill": {
     "duration": 0.833935,
     "end_time": "2025-04-13T08:47:52.386586",
     "exception": false,
     "start_time": "2025-04-13T08:47:51.552651",
     "status": "completed"
    },
    "tags": []
   },
   "outputs": [],
   "source": [
    "# This Python 3 environment comes with many helpful analytics libraries installed\n",
    "# It is defined by the kaggle/python Docker image: https://github.com/kaggle/docker-python\n",
    "# For example, here's several helpful packages to load\n",
    "\n",
    "import numpy as np # linear algebra\n",
    "import pandas as pd # data processing, CSV file I/O (e.g. pd.read_csv)\n",
    "\n",
    "# Input data files are available in the read-only \"../input/\" directory\n",
    "# For example, running this (by clicking run or pressing Shift+Enter) will list all files under the input directory\n",
    "\n",
    "import os\n",
    "for dirname, _, filenames in os.walk('/kaggle/input'):\n",
    "    for filename in filenames:\n",
    "        print(os.path.join(dirname, filename))\n",
    "\n",
    "# You can write up to 20GB to the current directory (/kaggle/working/) that gets preserved as output when you create a version using \"Save & Run All\" \n",
    "# You can also write temporary files to /kaggle/temp/, but they won't be saved outside of the current session"
   ]
  },
  {
   "cell_type": "code",
   "execution_count": 2,
   "id": "ef3d00d6",
   "metadata": {
    "execution": {
     "iopub.execute_input": "2025-04-13T08:47:52.399752Z",
     "iopub.status.busy": "2025-04-13T08:47:52.399416Z",
     "iopub.status.idle": "2025-04-13T08:48:00.825602Z",
     "shell.execute_reply": "2025-04-13T08:48:00.824602Z"
    },
    "papermill": {
     "duration": 8.43408,
     "end_time": "2025-04-13T08:48:00.827063",
     "exception": false,
     "start_time": "2025-04-13T08:47:52.392983",
     "status": "completed"
    },
    "tags": []
   },
   "outputs": [
    {
     "name": "stdout",
     "output_type": "stream",
     "text": [
      "Torch version: 2.5.1+cu121\n",
      "Torch vision version: 0.20.1+cu121\n"
     ]
    }
   ],
   "source": [
    "import torch\n",
    "import torchvision\n",
    "import matplotlib.pyplot as plt\n",
    "import requests\n",
    "import random\n",
    "\n",
    "from torch import nn\n",
    "from torchvision import datasets\n",
    "from torchvision.transforms import ToTensor\n",
    "from torch.utils.data import DataLoader\n",
    "from pathlib import Path\n",
    "from timeit import default_timer as timer\n",
    "from tqdm.auto import tqdm\n",
    "\n",
    "print(f'Torch version: {torch.__version__}')\n",
    "print(f'Torch vision version: {torchvision.__version__}')"
   ]
  },
  {
   "cell_type": "code",
   "execution_count": 3,
   "id": "dd1ae050",
   "metadata": {
    "execution": {
     "iopub.execute_input": "2025-04-13T08:48:00.840598Z",
     "iopub.status.busy": "2025-04-13T08:48:00.840117Z",
     "iopub.status.idle": "2025-04-13T08:48:00.891874Z",
     "shell.execute_reply": "2025-04-13T08:48:00.891165Z"
    },
    "papermill": {
     "duration": 0.0597,
     "end_time": "2025-04-13T08:48:00.893130",
     "exception": false,
     "start_time": "2025-04-13T08:48:00.833430",
     "status": "completed"
    },
    "tags": []
   },
   "outputs": [
    {
     "data": {
      "text/plain": [
       "'cuda'"
      ]
     },
     "execution_count": 3,
     "metadata": {},
     "output_type": "execute_result"
    }
   ],
   "source": [
    "device = 'cuda' if torch.cuda.is_available() else 'cpu'\n",
    "device"
   ]
  },
  {
   "cell_type": "code",
   "execution_count": 4,
   "id": "ebb041f7",
   "metadata": {
    "execution": {
     "iopub.execute_input": "2025-04-13T08:48:00.906268Z",
     "iopub.status.busy": "2025-04-13T08:48:00.906031Z",
     "iopub.status.idle": "2025-04-13T08:48:02.294108Z",
     "shell.execute_reply": "2025-04-13T08:48:02.293139Z"
    },
    "papermill": {
     "duration": 1.396117,
     "end_time": "2025-04-13T08:48:02.295604",
     "exception": false,
     "start_time": "2025-04-13T08:48:00.899487",
     "status": "completed"
    },
    "tags": []
   },
   "outputs": [
    {
     "name": "stdout",
     "output_type": "stream",
     "text": [
      "Downloading http://fashion-mnist.s3-website.eu-central-1.amazonaws.com/train-images-idx3-ubyte.gz\n",
      "Downloading http://fashion-mnist.s3-website.eu-central-1.amazonaws.com/train-images-idx3-ubyte.gz to data/FashionMNIST/raw/train-images-idx3-ubyte.gz\n"
     ]
    },
    {
     "name": "stderr",
     "output_type": "stream",
     "text": [
      "100%|██████████| 26.4M/26.4M [00:00<00:00, 113MB/s]\n"
     ]
    },
    {
     "name": "stdout",
     "output_type": "stream",
     "text": [
      "Extracting data/FashionMNIST/raw/train-images-idx3-ubyte.gz to data/FashionMNIST/raw\n",
      "\n",
      "Downloading http://fashion-mnist.s3-website.eu-central-1.amazonaws.com/train-labels-idx1-ubyte.gz\n",
      "Downloading http://fashion-mnist.s3-website.eu-central-1.amazonaws.com/train-labels-idx1-ubyte.gz to data/FashionMNIST/raw/train-labels-idx1-ubyte.gz\n"
     ]
    },
    {
     "name": "stderr",
     "output_type": "stream",
     "text": [
      "100%|██████████| 29.5k/29.5k [00:00<00:00, 4.37MB/s]"
     ]
    },
    {
     "name": "stdout",
     "output_type": "stream",
     "text": [
      "Extracting data/FashionMNIST/raw/train-labels-idx1-ubyte.gz to data/FashionMNIST/raw\n",
      "\n",
      "Downloading http://fashion-mnist.s3-website.eu-central-1.amazonaws.com/t10k-images-idx3-ubyte.gz\n",
      "Downloading http://fashion-mnist.s3-website.eu-central-1.amazonaws.com/t10k-images-idx3-ubyte.gz to data/FashionMNIST/raw/t10k-images-idx3-ubyte.gz\n"
     ]
    },
    {
     "name": "stderr",
     "output_type": "stream",
     "text": [
      "\n",
      "100%|██████████| 4.42M/4.42M [00:00<00:00, 62.1MB/s]\n"
     ]
    },
    {
     "name": "stdout",
     "output_type": "stream",
     "text": [
      "Extracting data/FashionMNIST/raw/t10k-images-idx3-ubyte.gz to data/FashionMNIST/raw\n",
      "\n",
      "Downloading http://fashion-mnist.s3-website.eu-central-1.amazonaws.com/t10k-labels-idx1-ubyte.gz\n",
      "Downloading http://fashion-mnist.s3-website.eu-central-1.amazonaws.com/t10k-labels-idx1-ubyte.gz to data/FashionMNIST/raw/t10k-labels-idx1-ubyte.gz\n"
     ]
    },
    {
     "name": "stderr",
     "output_type": "stream",
     "text": [
      "100%|██████████| 5.15k/5.15k [00:00<00:00, 8.84MB/s]\n"
     ]
    },
    {
     "name": "stdout",
     "output_type": "stream",
     "text": [
      "Extracting data/FashionMNIST/raw/t10k-labels-idx1-ubyte.gz to data/FashionMNIST/raw\n",
      "\n"
     ]
    },
    {
     "data": {
      "text/plain": [
       "(60000, 10000)"
      ]
     },
     "execution_count": 4,
     "metadata": {},
     "output_type": "execute_result"
    }
   ],
   "source": [
    "# Get the data\n",
    "train_data = datasets.FashionMNIST(\n",
    "    root='data',\n",
    "    train=True,\n",
    "    download=True,\n",
    "    transform=ToTensor(),\n",
    "    target_transform=None\n",
    ")\n",
    "\n",
    "test_data = datasets.FashionMNIST(\n",
    "    root='data',\n",
    "    train=False,\n",
    "    download=True,\n",
    "    transform=ToTensor(),\n",
    "    target_transform=None\n",
    ")\n",
    "\n",
    "len(train_data), len(test_data)"
   ]
  },
  {
   "cell_type": "code",
   "execution_count": 5,
   "id": "e023838d",
   "metadata": {
    "execution": {
     "iopub.execute_input": "2025-04-13T08:48:02.312581Z",
     "iopub.status.busy": "2025-04-13T08:48:02.312247Z",
     "iopub.status.idle": "2025-04-13T08:48:02.315751Z",
     "shell.execute_reply": "2025-04-13T08:48:02.314909Z"
    },
    "papermill": {
     "duration": 0.013235,
     "end_time": "2025-04-13T08:48:02.317144",
     "exception": false,
     "start_time": "2025-04-13T08:48:02.303909",
     "status": "completed"
    },
    "tags": []
   },
   "outputs": [],
   "source": [
    "# Hyperparamters\n",
    "BATCH_SIZE = 32\n",
    "LEARNING_RATE = 0.01"
   ]
  },
  {
   "cell_type": "code",
   "execution_count": 6,
   "id": "f472e13b",
   "metadata": {
    "execution": {
     "iopub.execute_input": "2025-04-13T08:48:02.333929Z",
     "iopub.status.busy": "2025-04-13T08:48:02.333679Z",
     "iopub.status.idle": "2025-04-13T08:48:02.366502Z",
     "shell.execute_reply": "2025-04-13T08:48:02.365537Z"
    },
    "papermill": {
     "duration": 0.042886,
     "end_time": "2025-04-13T08:48:02.367920",
     "exception": false,
     "start_time": "2025-04-13T08:48:02.325034",
     "status": "completed"
    },
    "tags": []
   },
   "outputs": [
    {
     "data": {
      "text/plain": [
       "2"
      ]
     },
     "execution_count": 6,
     "metadata": {},
     "output_type": "execute_result"
    }
   ],
   "source": [
    "X_sample = train_data[0]\n",
    "len(X_sample)"
   ]
  },
  {
   "cell_type": "code",
   "execution_count": 7,
   "id": "13adf15c",
   "metadata": {
    "execution": {
     "iopub.execute_input": "2025-04-13T08:48:02.385100Z",
     "iopub.status.busy": "2025-04-13T08:48:02.384753Z",
     "iopub.status.idle": "2025-04-13T08:48:02.431221Z",
     "shell.execute_reply": "2025-04-13T08:48:02.430319Z"
    },
    "papermill": {
     "duration": 0.056597,
     "end_time": "2025-04-13T08:48:02.432851",
     "exception": false,
     "start_time": "2025-04-13T08:48:02.376254",
     "status": "completed"
    },
    "tags": []
   },
   "outputs": [
    {
     "data": {
      "text/plain": [
       "(tensor([[[0.0000, 0.0000, 0.0000, 0.0000, 0.0000, 0.0000, 0.0000, 0.0000,\n",
       "           0.0000, 0.0000, 0.0000, 0.0000, 0.0000, 0.0000, 0.0000, 0.0000,\n",
       "           0.0000, 0.0000, 0.0000, 0.0000, 0.0000, 0.0000, 0.0000, 0.0000,\n",
       "           0.0000, 0.0000, 0.0000, 0.0000],\n",
       "          [0.0000, 0.0000, 0.0000, 0.0000, 0.0000, 0.0000, 0.0000, 0.0000,\n",
       "           0.0000, 0.0000, 0.0000, 0.0000, 0.0000, 0.0000, 0.0000, 0.0000,\n",
       "           0.0000, 0.0000, 0.0000, 0.0000, 0.0000, 0.0000, 0.0000, 0.0000,\n",
       "           0.0000, 0.0000, 0.0000, 0.0000],\n",
       "          [0.0000, 0.0000, 0.0000, 0.0000, 0.0000, 0.0000, 0.0000, 0.0000,\n",
       "           0.0000, 0.0000, 0.0000, 0.0000, 0.0000, 0.0000, 0.0000, 0.0000,\n",
       "           0.0000, 0.0000, 0.0000, 0.0000, 0.0000, 0.0000, 0.0000, 0.0000,\n",
       "           0.0000, 0.0000, 0.0000, 0.0000],\n",
       "          [0.0000, 0.0000, 0.0000, 0.0000, 0.0000, 0.0000, 0.0000, 0.0000,\n",
       "           0.0000, 0.0000, 0.0000, 0.0000, 0.0039, 0.0000, 0.0000, 0.0510,\n",
       "           0.2863, 0.0000, 0.0000, 0.0039, 0.0157, 0.0000, 0.0000, 0.0000,\n",
       "           0.0000, 0.0039, 0.0039, 0.0000],\n",
       "          [0.0000, 0.0000, 0.0000, 0.0000, 0.0000, 0.0000, 0.0000, 0.0000,\n",
       "           0.0000, 0.0000, 0.0000, 0.0000, 0.0118, 0.0000, 0.1412, 0.5333,\n",
       "           0.4980, 0.2431, 0.2118, 0.0000, 0.0000, 0.0000, 0.0039, 0.0118,\n",
       "           0.0157, 0.0000, 0.0000, 0.0118],\n",
       "          [0.0000, 0.0000, 0.0000, 0.0000, 0.0000, 0.0000, 0.0000, 0.0000,\n",
       "           0.0000, 0.0000, 0.0000, 0.0000, 0.0235, 0.0000, 0.4000, 0.8000,\n",
       "           0.6902, 0.5255, 0.5647, 0.4824, 0.0902, 0.0000, 0.0000, 0.0000,\n",
       "           0.0000, 0.0471, 0.0392, 0.0000],\n",
       "          [0.0000, 0.0000, 0.0000, 0.0000, 0.0000, 0.0000, 0.0000, 0.0000,\n",
       "           0.0000, 0.0000, 0.0000, 0.0000, 0.0000, 0.0000, 0.6078, 0.9255,\n",
       "           0.8118, 0.6980, 0.4196, 0.6118, 0.6314, 0.4275, 0.2510, 0.0902,\n",
       "           0.3020, 0.5098, 0.2824, 0.0588],\n",
       "          [0.0000, 0.0000, 0.0000, 0.0000, 0.0000, 0.0000, 0.0000, 0.0000,\n",
       "           0.0000, 0.0000, 0.0000, 0.0039, 0.0000, 0.2706, 0.8118, 0.8745,\n",
       "           0.8549, 0.8471, 0.8471, 0.6392, 0.4980, 0.4745, 0.4784, 0.5725,\n",
       "           0.5529, 0.3451, 0.6745, 0.2588],\n",
       "          [0.0000, 0.0000, 0.0000, 0.0000, 0.0000, 0.0000, 0.0000, 0.0000,\n",
       "           0.0000, 0.0039, 0.0039, 0.0039, 0.0000, 0.7843, 0.9098, 0.9098,\n",
       "           0.9137, 0.8980, 0.8745, 0.8745, 0.8431, 0.8353, 0.6431, 0.4980,\n",
       "           0.4824, 0.7686, 0.8980, 0.0000],\n",
       "          [0.0000, 0.0000, 0.0000, 0.0000, 0.0000, 0.0000, 0.0000, 0.0000,\n",
       "           0.0000, 0.0000, 0.0000, 0.0000, 0.0000, 0.7176, 0.8824, 0.8471,\n",
       "           0.8745, 0.8941, 0.9216, 0.8902, 0.8784, 0.8706, 0.8784, 0.8667,\n",
       "           0.8745, 0.9608, 0.6784, 0.0000],\n",
       "          [0.0000, 0.0000, 0.0000, 0.0000, 0.0000, 0.0000, 0.0000, 0.0000,\n",
       "           0.0000, 0.0000, 0.0000, 0.0000, 0.0000, 0.7569, 0.8941, 0.8549,\n",
       "           0.8353, 0.7765, 0.7059, 0.8314, 0.8235, 0.8275, 0.8353, 0.8745,\n",
       "           0.8627, 0.9529, 0.7922, 0.0000],\n",
       "          [0.0000, 0.0000, 0.0000, 0.0000, 0.0000, 0.0000, 0.0000, 0.0000,\n",
       "           0.0000, 0.0039, 0.0118, 0.0000, 0.0471, 0.8588, 0.8627, 0.8314,\n",
       "           0.8549, 0.7529, 0.6627, 0.8902, 0.8157, 0.8549, 0.8784, 0.8314,\n",
       "           0.8863, 0.7725, 0.8196, 0.2039],\n",
       "          [0.0000, 0.0000, 0.0000, 0.0000, 0.0000, 0.0000, 0.0000, 0.0000,\n",
       "           0.0000, 0.0000, 0.0235, 0.0000, 0.3882, 0.9569, 0.8706, 0.8627,\n",
       "           0.8549, 0.7961, 0.7765, 0.8667, 0.8431, 0.8353, 0.8706, 0.8627,\n",
       "           0.9608, 0.4667, 0.6549, 0.2196],\n",
       "          [0.0000, 0.0000, 0.0000, 0.0000, 0.0000, 0.0000, 0.0000, 0.0000,\n",
       "           0.0000, 0.0157, 0.0000, 0.0000, 0.2157, 0.9255, 0.8941, 0.9020,\n",
       "           0.8941, 0.9412, 0.9098, 0.8353, 0.8549, 0.8745, 0.9176, 0.8510,\n",
       "           0.8510, 0.8196, 0.3608, 0.0000],\n",
       "          [0.0000, 0.0000, 0.0039, 0.0157, 0.0235, 0.0275, 0.0078, 0.0000,\n",
       "           0.0000, 0.0000, 0.0000, 0.0000, 0.9294, 0.8863, 0.8510, 0.8745,\n",
       "           0.8706, 0.8588, 0.8706, 0.8667, 0.8471, 0.8745, 0.8980, 0.8431,\n",
       "           0.8549, 1.0000, 0.3020, 0.0000],\n",
       "          [0.0000, 0.0118, 0.0000, 0.0000, 0.0000, 0.0000, 0.0000, 0.0000,\n",
       "           0.0000, 0.2431, 0.5686, 0.8000, 0.8941, 0.8118, 0.8353, 0.8667,\n",
       "           0.8549, 0.8157, 0.8275, 0.8549, 0.8784, 0.8745, 0.8588, 0.8431,\n",
       "           0.8784, 0.9569, 0.6235, 0.0000],\n",
       "          [0.0000, 0.0000, 0.0000, 0.0000, 0.0706, 0.1725, 0.3216, 0.4196,\n",
       "           0.7412, 0.8941, 0.8627, 0.8706, 0.8510, 0.8863, 0.7843, 0.8039,\n",
       "           0.8275, 0.9020, 0.8784, 0.9176, 0.6902, 0.7373, 0.9804, 0.9725,\n",
       "           0.9137, 0.9333, 0.8431, 0.0000],\n",
       "          [0.0000, 0.2235, 0.7333, 0.8157, 0.8784, 0.8667, 0.8784, 0.8157,\n",
       "           0.8000, 0.8392, 0.8157, 0.8196, 0.7843, 0.6235, 0.9608, 0.7569,\n",
       "           0.8078, 0.8745, 1.0000, 1.0000, 0.8667, 0.9176, 0.8667, 0.8275,\n",
       "           0.8627, 0.9098, 0.9647, 0.0000],\n",
       "          [0.0118, 0.7922, 0.8941, 0.8784, 0.8667, 0.8275, 0.8275, 0.8392,\n",
       "           0.8039, 0.8039, 0.8039, 0.8627, 0.9412, 0.3137, 0.5882, 1.0000,\n",
       "           0.8980, 0.8667, 0.7373, 0.6039, 0.7490, 0.8235, 0.8000, 0.8196,\n",
       "           0.8706, 0.8941, 0.8824, 0.0000],\n",
       "          [0.3843, 0.9137, 0.7765, 0.8235, 0.8706, 0.8980, 0.8980, 0.9176,\n",
       "           0.9765, 0.8627, 0.7608, 0.8431, 0.8510, 0.9451, 0.2549, 0.2863,\n",
       "           0.4157, 0.4588, 0.6588, 0.8588, 0.8667, 0.8431, 0.8510, 0.8745,\n",
       "           0.8745, 0.8784, 0.8980, 0.1137],\n",
       "          [0.2941, 0.8000, 0.8314, 0.8000, 0.7569, 0.8039, 0.8275, 0.8824,\n",
       "           0.8471, 0.7255, 0.7725, 0.8078, 0.7765, 0.8353, 0.9412, 0.7647,\n",
       "           0.8902, 0.9608, 0.9373, 0.8745, 0.8549, 0.8314, 0.8196, 0.8706,\n",
       "           0.8627, 0.8667, 0.9020, 0.2627],\n",
       "          [0.1882, 0.7961, 0.7176, 0.7608, 0.8353, 0.7725, 0.7255, 0.7451,\n",
       "           0.7608, 0.7529, 0.7922, 0.8392, 0.8588, 0.8667, 0.8627, 0.9255,\n",
       "           0.8824, 0.8471, 0.7804, 0.8078, 0.7294, 0.7098, 0.6941, 0.6745,\n",
       "           0.7098, 0.8039, 0.8078, 0.4510],\n",
       "          [0.0000, 0.4784, 0.8588, 0.7569, 0.7020, 0.6706, 0.7176, 0.7686,\n",
       "           0.8000, 0.8235, 0.8353, 0.8118, 0.8275, 0.8235, 0.7843, 0.7686,\n",
       "           0.7608, 0.7490, 0.7647, 0.7490, 0.7765, 0.7529, 0.6902, 0.6118,\n",
       "           0.6549, 0.6941, 0.8235, 0.3608],\n",
       "          [0.0000, 0.0000, 0.2902, 0.7412, 0.8314, 0.7490, 0.6863, 0.6745,\n",
       "           0.6863, 0.7098, 0.7255, 0.7373, 0.7412, 0.7373, 0.7569, 0.7765,\n",
       "           0.8000, 0.8196, 0.8235, 0.8235, 0.8275, 0.7373, 0.7373, 0.7608,\n",
       "           0.7529, 0.8471, 0.6667, 0.0000],\n",
       "          [0.0078, 0.0000, 0.0000, 0.0000, 0.2588, 0.7843, 0.8706, 0.9294,\n",
       "           0.9373, 0.9490, 0.9647, 0.9529, 0.9569, 0.8667, 0.8627, 0.7569,\n",
       "           0.7490, 0.7020, 0.7137, 0.7137, 0.7098, 0.6902, 0.6510, 0.6588,\n",
       "           0.3882, 0.2275, 0.0000, 0.0000],\n",
       "          [0.0000, 0.0000, 0.0000, 0.0000, 0.0000, 0.0000, 0.0000, 0.1569,\n",
       "           0.2392, 0.1725, 0.2824, 0.1608, 0.1373, 0.0000, 0.0000, 0.0000,\n",
       "           0.0000, 0.0000, 0.0000, 0.0000, 0.0000, 0.0000, 0.0000, 0.0000,\n",
       "           0.0000, 0.0000, 0.0000, 0.0000],\n",
       "          [0.0000, 0.0000, 0.0000, 0.0000, 0.0000, 0.0000, 0.0000, 0.0000,\n",
       "           0.0000, 0.0000, 0.0000, 0.0000, 0.0000, 0.0000, 0.0000, 0.0000,\n",
       "           0.0000, 0.0000, 0.0000, 0.0000, 0.0000, 0.0000, 0.0000, 0.0000,\n",
       "           0.0000, 0.0000, 0.0000, 0.0000],\n",
       "          [0.0000, 0.0000, 0.0000, 0.0000, 0.0000, 0.0000, 0.0000, 0.0000,\n",
       "           0.0000, 0.0000, 0.0000, 0.0000, 0.0000, 0.0000, 0.0000, 0.0000,\n",
       "           0.0000, 0.0000, 0.0000, 0.0000, 0.0000, 0.0000, 0.0000, 0.0000,\n",
       "           0.0000, 0.0000, 0.0000, 0.0000]]]),\n",
       " 9)"
      ]
     },
     "execution_count": 7,
     "metadata": {},
     "output_type": "execute_result"
    }
   ],
   "source": [
    "img, label = X_sample\n",
    "img, label"
   ]
  },
  {
   "cell_type": "code",
   "execution_count": 8,
   "id": "8c9a4128",
   "metadata": {
    "execution": {
     "iopub.execute_input": "2025-04-13T08:48:02.451188Z",
     "iopub.status.busy": "2025-04-13T08:48:02.450895Z",
     "iopub.status.idle": "2025-04-13T08:48:02.456117Z",
     "shell.execute_reply": "2025-04-13T08:48:02.455198Z"
    },
    "papermill": {
     "duration": 0.016029,
     "end_time": "2025-04-13T08:48:02.457664",
     "exception": false,
     "start_time": "2025-04-13T08:48:02.441635",
     "status": "completed"
    },
    "tags": []
   },
   "outputs": [
    {
     "data": {
      "text/plain": [
       "['T-shirt/top',\n",
       " 'Trouser',\n",
       " 'Pullover',\n",
       " 'Dress',\n",
       " 'Coat',\n",
       " 'Sandal',\n",
       " 'Shirt',\n",
       " 'Sneaker',\n",
       " 'Bag',\n",
       " 'Ankle boot']"
      ]
     },
     "execution_count": 8,
     "metadata": {},
     "output_type": "execute_result"
    }
   ],
   "source": [
    "class_names = train_data.classes\n",
    "class_names"
   ]
  },
  {
   "cell_type": "code",
   "execution_count": 9,
   "id": "fd3afb76",
   "metadata": {
    "execution": {
     "iopub.execute_input": "2025-04-13T08:48:02.476094Z",
     "iopub.status.busy": "2025-04-13T08:48:02.475822Z",
     "iopub.status.idle": "2025-04-13T08:48:02.480726Z",
     "shell.execute_reply": "2025-04-13T08:48:02.479849Z"
    },
    "papermill": {
     "duration": 0.015609,
     "end_time": "2025-04-13T08:48:02.482201",
     "exception": false,
     "start_time": "2025-04-13T08:48:02.466592",
     "status": "completed"
    },
    "tags": []
   },
   "outputs": [
    {
     "data": {
      "text/plain": [
       "torch.Size([1, 28, 28])"
      ]
     },
     "execution_count": 9,
     "metadata": {},
     "output_type": "execute_result"
    }
   ],
   "source": [
    "img.shape"
   ]
  },
  {
   "cell_type": "code",
   "execution_count": 10,
   "id": "cb6080f7",
   "metadata": {
    "execution": {
     "iopub.execute_input": "2025-04-13T08:48:02.500842Z",
     "iopub.status.busy": "2025-04-13T08:48:02.500558Z",
     "iopub.status.idle": "2025-04-13T08:48:02.712447Z",
     "shell.execute_reply": "2025-04-13T08:48:02.711621Z"
    },
    "papermill": {
     "duration": 0.22286,
     "end_time": "2025-04-13T08:48:02.713924",
     "exception": false,
     "start_time": "2025-04-13T08:48:02.491064",
     "status": "completed"
    },
    "tags": []
   },
   "outputs": [
    {
     "data": {
      "text/plain": [
       "(-0.5, 27.5, 27.5, -0.5)"
      ]
     },
     "execution_count": 10,
     "metadata": {},
     "output_type": "execute_result"
    },
    {
     "data": {
      "image/png": "[encoded data removed]",
      "text/plain": [
       "<Figure size 1000x600 with 1 Axes>"
      ]
     },
     "metadata": {},
     "output_type": "display_data"
    }
   ],
   "source": [
    "plt.figure(figsize=(10, 6))\n",
    "random_idx = torch.randint(1, len(train_data), size=[1]).item()\n",
    "img, label = train_data[random_idx]\n",
    "plt.imshow(img.squeeze(), cmap='gray')\n",
    "plt.title(class_names[label])\n",
    "plt.axis(False)"
   ]
  },
  {
   "cell_type": "code",
   "execution_count": 11,
   "id": "1347ed2b",
   "metadata": {
    "execution": {
     "iopub.execute_input": "2025-04-13T08:48:02.731038Z",
     "iopub.status.busy": "2025-04-13T08:48:02.730819Z",
     "iopub.status.idle": "2025-04-13T08:48:03.535829Z",
     "shell.execute_reply": "2025-04-13T08:48:03.534914Z"
    },
    "papermill": {
     "duration": 0.815043,
     "end_time": "2025-04-13T08:48:03.537260",
     "exception": false,
     "start_time": "2025-04-13T08:48:02.722217",
     "status": "completed"
    },
    "tags": []
   },
   "outputs": [
    {
     "data": {
      "image/png": "[encoded data removed]",
      "text/plain": [
       "<Figure size 900x900 with 16 Axes>"
      ]
     },
     "metadata": {},
     "output_type": "display_data"
    }
   ],
   "source": [
    "fig = plt.figure(figsize=(9, 9))\n",
    "rows = cols = 4\n",
    "\n",
    "for i in range(1, rows * cols + 1):\n",
    "    random_idx = torch.randint(1, len(train_data), size=[1]).item()\n",
    "    img, label = train_data[random_idx]\n",
    "    fig.add_subplot(rows, cols, i)\n",
    "    plt.title(class_names[label])\n",
    "    plt.imshow(img.squeeze(), cmap='gray')\n",
    "    plt.axis(False)"
   ]
  },
  {
   "cell_type": "code",
   "execution_count": 12,
   "id": "9b3a5679",
   "metadata": {
    "execution": {
     "iopub.execute_input": "2025-04-13T08:48:03.555992Z",
     "iopub.status.busy": "2025-04-13T08:48:03.555773Z",
     "iopub.status.idle": "2025-04-13T08:48:03.560783Z",
     "shell.execute_reply": "2025-04-13T08:48:03.559980Z"
    },
    "papermill": {
     "duration": 0.015624,
     "end_time": "2025-04-13T08:48:03.562035",
     "exception": false,
     "start_time": "2025-04-13T08:48:03.546411",
     "status": "completed"
    },
    "tags": []
   },
   "outputs": [
    {
     "data": {
      "text/plain": [
       "(<torch.utils.data.dataloader.DataLoader at 0x78384cdd1330>,\n",
       " <torch.utils.data.dataloader.DataLoader at 0x78385023d9c0>)"
      ]
     },
     "execution_count": 12,
     "metadata": {},
     "output_type": "execute_result"
    }
   ],
   "source": [
    "train_dataloader = DataLoader(dataset=train_data, batch_size=BATCH_SIZE, shuffle=True)\n",
    "test_dataloader = DataLoader(dataset=test_data, batch_size=BATCH_SIZE, shuffle=False)\n",
    "train_dataloader, test_dataloader"
   ]
  },
  {
   "cell_type": "code",
   "execution_count": 13,
   "id": "1658c181",
   "metadata": {
    "execution": {
     "iopub.execute_input": "2025-04-13T08:48:03.580562Z",
     "iopub.status.busy": "2025-04-13T08:48:03.580319Z",
     "iopub.status.idle": "2025-04-13T08:48:03.584620Z",
     "shell.execute_reply": "2025-04-13T08:48:03.583894Z"
    },
    "papermill": {
     "duration": 0.015001,
     "end_time": "2025-04-13T08:48:03.585856",
     "exception": false,
     "start_time": "2025-04-13T08:48:03.570855",
     "status": "completed"
    },
    "tags": []
   },
   "outputs": [
    {
     "name": "stdout",
     "output_type": "stream",
     "text": [
      "Train dataloader has a length of: 1875 of 32 batchs\n",
      "Test dataloader has a length of: 313 of 32 batchs\n"
     ]
    }
   ],
   "source": [
    "print(f'Train dataloader has a length of: {len(train_dataloader)} of {BATCH_SIZE} batchs')\n",
    "print(f'Test dataloader has a length of: {len(test_dataloader)} of {BATCH_SIZE} batchs')"
   ]
  },
  {
   "cell_type": "code",
   "execution_count": 14,
   "id": "6bd84164",
   "metadata": {
    "execution": {
     "iopub.execute_input": "2025-04-13T08:48:03.604658Z",
     "iopub.status.busy": "2025-04-13T08:48:03.604422Z",
     "iopub.status.idle": "2025-04-13T08:48:03.627575Z",
     "shell.execute_reply": "2025-04-13T08:48:03.626913Z"
    },
    "papermill": {
     "duration": 0.033974,
     "end_time": "2025-04-13T08:48:03.628707",
     "exception": false,
     "start_time": "2025-04-13T08:48:03.594733",
     "status": "completed"
    },
    "tags": []
   },
   "outputs": [
    {
     "data": {
      "text/plain": [
       "(torch.Size([32, 1, 28, 28]), torch.Size([32]))"
      ]
     },
     "execution_count": 14,
     "metadata": {},
     "output_type": "execute_result"
    }
   ],
   "source": [
    "train_features_batch, train_labels_batch = next(iter(train_dataloader))\n",
    "train_features_batch.shape, train_labels_batch.shape"
   ]
  },
  {
   "cell_type": "code",
   "execution_count": 15,
   "id": "41644ec4",
   "metadata": {
    "execution": {
     "iopub.execute_input": "2025-04-13T08:48:03.647838Z",
     "iopub.status.busy": "2025-04-13T08:48:03.647622Z",
     "iopub.status.idle": "2025-04-13T08:48:03.651918Z",
     "shell.execute_reply": "2025-04-13T08:48:03.651285Z"
    },
    "papermill": {
     "duration": 0.01524,
     "end_time": "2025-04-13T08:48:03.653129",
     "exception": false,
     "start_time": "2025-04-13T08:48:03.637889",
     "status": "completed"
    },
    "tags": []
   },
   "outputs": [
    {
     "data": {
      "text/plain": [
       "torch.Size([1, 28, 28])"
      ]
     },
     "execution_count": 15,
     "metadata": {},
     "output_type": "execute_result"
    }
   ],
   "source": [
    "train_features_batch[0].shape"
   ]
  },
  {
   "cell_type": "code",
   "execution_count": 16,
   "id": "df8dea66",
   "metadata": {
    "execution": {
     "iopub.execute_input": "2025-04-13T08:48:03.671866Z",
     "iopub.status.busy": "2025-04-13T08:48:03.671658Z",
     "iopub.status.idle": "2025-04-13T08:48:03.777347Z",
     "shell.execute_reply": "2025-04-13T08:48:03.776504Z"
    },
    "papermill": {
     "duration": 0.116823,
     "end_time": "2025-04-13T08:48:03.778906",
     "exception": false,
     "start_time": "2025-04-13T08:48:03.662083",
     "status": "completed"
    },
    "tags": []
   },
   "outputs": [
    {
     "data": {
      "text/plain": [
       "(-0.5, 27.5, 27.5, -0.5)"
      ]
     },
     "execution_count": 16,
     "metadata": {},
     "output_type": "execute_result"
    },
    {
     "data": {
      "image/png": "[encoded data removed]",
      "text/plain": [
       "<Figure size 1000x600 with 1 Axes>"
      ]
     },
     "metadata": {},
     "output_type": "display_data"
    }
   ],
   "source": [
    "random_idx = torch.randint(1, len(train_features_batch), size=[1]).item()\n",
    "img = train_features_batch[random_idx]\n",
    "label = train_labels_batch[random_idx]\n",
    "plt.figure(figsize=(10, 6))\n",
    "plt.imshow(img.squeeze(), cmap='gray')\n",
    "plt.title(class_names[label])\n",
    "plt.axis(False)"
   ]
  },
  {
   "cell_type": "code",
   "execution_count": 17,
   "id": "4be49158",
   "metadata": {
    "execution": {
     "iopub.execute_input": "2025-04-13T08:48:03.799823Z",
     "iopub.status.busy": "2025-04-13T08:48:03.799531Z",
     "iopub.status.idle": "2025-04-13T08:48:03.807149Z",
     "shell.execute_reply": "2025-04-13T08:48:03.806526Z"
    },
    "papermill": {
     "duration": 0.019086,
     "end_time": "2025-04-13T08:48:03.808240",
     "exception": false,
     "start_time": "2025-04-13T08:48:03.789154",
     "status": "completed"
    },
    "tags": []
   },
   "outputs": [
    {
     "data": {
      "text/plain": [
       "FashionMNISTModelV0(\n",
       "  (network): Sequential(\n",
       "    (0): Flatten(start_dim=1, end_dim=-1)\n",
       "    (1): Linear(in_features=784, out_features=32, bias=True)\n",
       "    (2): Linear(in_features=32, out_features=16, bias=True)\n",
       "    (3): Linear(in_features=16, out_features=8, bias=True)\n",
       "    (4): Linear(in_features=8, out_features=16, bias=True)\n",
       "    (5): Linear(in_features=16, out_features=32, bias=True)\n",
       "    (6): Linear(in_features=32, out_features=10, bias=True)\n",
       "  )\n",
       ")"
      ]
     },
     "execution_count": 17,
     "metadata": {},
     "output_type": "execute_result"
    }
   ],
   "source": [
    "class FashionMNISTModelV0(nn.Module):\n",
    "    def __init__(self, input_shape: int, hidden_units: int, output_shape: int):\n",
    "        super().__init__()\n",
    "        self.network = nn.Sequential(\n",
    "            nn.Flatten(),\n",
    "            nn.Linear(in_features=input_shape, out_features=hidden_units),\n",
    "            nn.Linear(in_features=hidden_units, out_features=hidden_units//2),\n",
    "            nn.Linear(in_features=hidden_units//2, out_features=hidden_units//4),\n",
    "            nn.Linear(in_features=hidden_units//4, out_features=hidden_units//2),\n",
    "            nn.Linear(in_features=hidden_units//2, out_features=hidden_units),\n",
    "            nn.Linear(in_features=hidden_units, out_features=output_shape)\n",
    "        )\n",
    "\n",
    "    def forward(self, x: torch.Tensor) -> torch.Tensor:\n",
    "        return self.network(x)\n",
    "\n",
    "\n",
    "model_0 = FashionMNISTModelV0(28*28, 32, len(class_names))\n",
    "model_0"
   ]
  },
  {
   "cell_type": "code",
   "execution_count": 18,
   "id": "7360f237",
   "metadata": {
    "execution": {
     "iopub.execute_input": "2025-04-13T08:48:03.827941Z",
     "iopub.status.busy": "2025-04-13T08:48:03.827706Z",
     "iopub.status.idle": "2025-04-13T08:48:03.831297Z",
     "shell.execute_reply": "2025-04-13T08:48:03.830691Z"
    },
    "papermill": {
     "duration": 0.014701,
     "end_time": "2025-04-13T08:48:03.832434",
     "exception": false,
     "start_time": "2025-04-13T08:48:03.817733",
     "status": "completed"
    },
    "tags": []
   },
   "outputs": [],
   "source": [
    "criterion = nn.CrossEntropyLoss()\n",
    "optimizer = torch.optim.SGD(params=model_0.parameters(), lr=LEARNING_RATE)"
   ]
  },
  {
   "cell_type": "code",
   "execution_count": 19,
   "id": "0c3220e3",
   "metadata": {
    "execution": {
     "iopub.execute_input": "2025-04-13T08:48:03.852257Z",
     "iopub.status.busy": "2025-04-13T08:48:03.852026Z",
     "iopub.status.idle": "2025-04-13T08:48:04.075660Z",
     "shell.execute_reply": "2025-04-13T08:48:04.074295Z"
    },
    "papermill": {
     "duration": 0.235911,
     "end_time": "2025-04-13T08:48:04.077878",
     "exception": false,
     "start_time": "2025-04-13T08:48:03.841967",
     "status": "completed"
    },
    "tags": []
   },
   "outputs": [
    {
     "name": "stdout",
     "output_type": "stream",
     "text": [
      "Done Downloading...\n"
     ]
    }
   ],
   "source": [
    "if Path('helper_functions.py').is_file():\n",
    "    print('helper_functions.py already exists. Skipping download...')\n",
    "else:\n",
    "    request = requests.get('https://raw.githubusercontent.com/TheCloudOracle/pytorch-deep-learning/refs/heads/main/helper_functions.py')\n",
    "    with open('helper_functions.py', 'wb') as f:\n",
    "        f.write(request.content)\n",
    "    print('Done Downloading...')\n",
    "\n",
    "from helper_functions import accuracy_fn as acc"
   ]
  },
  {
   "cell_type": "code",
   "execution_count": 20,
   "id": "31c4196e",
   "metadata": {
    "execution": {
     "iopub.execute_input": "2025-04-13T08:48:04.104358Z",
     "iopub.status.busy": "2025-04-13T08:48:04.103891Z",
     "iopub.status.idle": "2025-04-13T08:48:04.112720Z",
     "shell.execute_reply": "2025-04-13T08:48:04.111890Z"
    },
    "papermill": {
     "duration": 0.024525,
     "end_time": "2025-04-13T08:48:04.114053",
     "exception": false,
     "start_time": "2025-04-13T08:48:04.089528",
     "status": "completed"
    },
    "tags": []
   },
   "outputs": [],
   "source": [
    "def train(model: nn.Module, dataloader: DataLoader, loss_fn: nn.Module, optimizer: torch.optim.Optimizer, accuracy_fn, device: torch.device):\n",
    "    model.to(device)\n",
    "    train_loss, train_acc = 0, 0\n",
    "    for batch, (X, y) in enumerate(dataloader):\n",
    "        # Send datasets to device\n",
    "        X, y = X.to(device), y.to(device)    \n",
    "        # Forward pass\n",
    "        y_preds = model(X)\n",
    "        # Calculate loss and accuracy\n",
    "        t_loss = loss_fn(y_preds, y)\n",
    "        train_loss += t_loss\n",
    "        train_acc += accuracy_fn(y_true=y, y_pred=y_preds.argmax(dim=1))\n",
    "        # Optimizer zero grad\n",
    "        optimizer.zero_grad()\n",
    "        # Backpropagation\n",
    "        t_loss.backward()\n",
    "        # Optimizer step\n",
    "        optimizer.step()\n",
    "        if batch % 400 == 0:\n",
    "            # Print what's going on\n",
    "            print(f'Looked at: {len(X)*batch}/{len(dataloader.dataset)}')\n",
    "\n",
    "    train_loss /= len(dataloader)\n",
    "    train_acc /= len(dataloader)\n",
    "    return train_loss, train_acc\n",
    "\n",
    "\n",
    "def test(model: nn.Module, dataloader: DataLoader, loss_fn: nn.Module, accuracy_fn, device: torch.device):\n",
    "    model.to(device)\n",
    "    # Turn off gradient tracking\n",
    "    with torch.inference_mode():\n",
    "        test_loss, test_acc = 0, 0\n",
    "        for X, y in dataloader:\n",
    "            # Set datasets to device\n",
    "            X, y = X.to(device), y.to(device)\n",
    "            # Forward pass\n",
    "            y_preds = model(X)\n",
    "            # Calculate the loss and the accuracy\n",
    "            test_loss += loss_fn(y_preds, y)\n",
    "            test_acc += accuracy_fn(y_true=y, y_pred=y_preds.argmax(dim=1))\n",
    "\n",
    "        test_loss /= len(dataloader)\n",
    "        test_acc /= len(dataloader)\n",
    "\n",
    "    return test_loss, test_acc\n",
    "\n",
    "def print_train_time(start: float, end: float, device: torch.device):\n",
    "    total_time = end - start\n",
    "    print(f'Trained for {total_time:.2f} second(s) on {device}')\n",
    "    return total_time\n",
    "\n",
    "def eval_model(model: nn.Module, dataloader: DataLoader, loss_fn, accuracy_fn, device: torch.device):\n",
    "    model.eval()\n",
    "    test_loss, test_acc = test(model, test_dataloader, loss_fn, acc, device)\n",
    "    return {'model_name': model.__class__.__name__, 'test_loss': test_loss.item(), 'test_acc': test_acc}"
   ]
  },
  {
   "cell_type": "code",
   "execution_count": 21,
   "id": "c22ef4e9",
   "metadata": {
    "execution": {
     "iopub.execute_input": "2025-04-13T08:48:04.133735Z",
     "iopub.status.busy": "2025-04-13T08:48:04.133505Z",
     "iopub.status.idle": "2025-04-13T08:48:32.748956Z",
     "shell.execute_reply": "2025-04-13T08:48:32.748230Z"
    },
    "papermill": {
     "duration": 28.626859,
     "end_time": "2025-04-13T08:48:32.750370",
     "exception": false,
     "start_time": "2025-04-13T08:48:04.123511",
     "status": "completed"
    },
    "tags": []
   },
   "outputs": [
    {
     "data": {
      "application/vnd.jupyter.widget-view+json": {
       "model_id": "2506caab184f483a9c2ec5962961eb3f",
       "version_major": 2,
       "version_minor": 0
      },
      "text/plain": [
       "  0%|          | 0/3 [00:00<?, ?it/s]"
      ]
     },
     "metadata": {},
     "output_type": "display_data"
    },
    {
     "name": "stdout",
     "output_type": "stream",
     "text": [
      "Epoch #1\n",
      "=====================\n",
      "Looked at: 0/60000\n",
      "Looked at: 12800/60000\n",
      "Looked at: 25600/60000\n",
      "Looked at: 38400/60000\n",
      "Looked at: 51200/60000\n",
      "Train Loss: 1.46 Train Accuracy: 42.21% | Test Loss: 0.92 Test Accuracy: 63.57%\n",
      "Epoch #2\n",
      "=====================\n",
      "Looked at: 0/60000\n",
      "Looked at: 12800/60000\n",
      "Looked at: 25600/60000\n",
      "Looked at: 38400/60000\n",
      "Looked at: 51200/60000\n",
      "Train Loss: 0.82 Train Accuracy: 69.17% | Test Loss: 0.73 Test Accuracy: 73.48%\n",
      "Epoch #3\n",
      "=====================\n",
      "Looked at: 0/60000\n",
      "Looked at: 12800/60000\n",
      "Looked at: 25600/60000\n",
      "Looked at: 38400/60000\n",
      "Looked at: 51200/60000\n",
      "Train Loss: 0.67 Train Accuracy: 75.40% | Test Loss: 0.69 Test Accuracy: 76.09%\n",
      "Trained for 28.61 second(s) on cpu\n"
     ]
    }
   ],
   "source": [
    "epochs = 3\n",
    "train_start_model_0 = timer()\n",
    "for epoch in tqdm(range(epochs)):\n",
    "    print(f'Epoch #{epoch+1}\\n=====================')\n",
    "    train_loss, train_acc = train(model_0, train_dataloader, criterion, optimizer, acc, 'cpu')\n",
    "    test_loss, test_acc = test(model_0, test_dataloader, criterion, acc, 'cpu')\n",
    "    print(f'Train Loss: {train_loss:.2f} Train Accuracy: {train_acc:.2f}% | Test Loss: {test_loss:.2f} Test Accuracy: {test_acc:.2f}%')\n",
    "train_end_model_0 = timer()\n",
    "model_0_time = print_train_time(start=train_start_model_0, end=train_end_model_0, device='cpu')"
   ]
  },
  {
   "cell_type": "code",
   "execution_count": 22,
   "id": "647421c4",
   "metadata": {
    "execution": {
     "iopub.execute_input": "2025-04-13T08:48:32.772108Z",
     "iopub.status.busy": "2025-04-13T08:48:32.771870Z",
     "iopub.status.idle": "2025-04-13T08:48:33.788573Z",
     "shell.execute_reply": "2025-04-13T08:48:33.787679Z"
    },
    "papermill": {
     "duration": 1.028823,
     "end_time": "2025-04-13T08:48:33.790010",
     "exception": false,
     "start_time": "2025-04-13T08:48:32.761187",
     "status": "completed"
    },
    "tags": []
   },
   "outputs": [
    {
     "data": {
      "text/plain": [
       "{'model_name': 'FashionMNISTModelV0',\n",
       " 'test_loss': 0.6864315271377563,\n",
       " 'test_acc': 76.08825878594249}"
      ]
     },
     "execution_count": 22,
     "metadata": {},
     "output_type": "execute_result"
    }
   ],
   "source": [
    "model_0_results = eval_model(model_0, test_dataloader, criterion, acc, 'cpu')\n",
    "model_0_results"
   ]
  },
  {
   "cell_type": "code",
   "execution_count": 23,
   "id": "871ce68a",
   "metadata": {
    "execution": {
     "iopub.execute_input": "2025-04-13T08:48:33.812133Z",
     "iopub.status.busy": "2025-04-13T08:48:33.811882Z",
     "iopub.status.idle": "2025-04-13T08:48:33.819942Z",
     "shell.execute_reply": "2025-04-13T08:48:33.819311Z"
    },
    "papermill": {
     "duration": 0.020266,
     "end_time": "2025-04-13T08:48:33.821138",
     "exception": false,
     "start_time": "2025-04-13T08:48:33.800872",
     "status": "completed"
    },
    "tags": []
   },
   "outputs": [
    {
     "data": {
      "text/plain": [
       "FashionMNISTModelV1(\n",
       "  (network): Sequential(\n",
       "    (0): Flatten(start_dim=1, end_dim=-1)\n",
       "    (1): Linear(in_features=784, out_features=32, bias=True)\n",
       "    (2): ReLU()\n",
       "    (3): Linear(in_features=32, out_features=16, bias=True)\n",
       "    (4): ReLU()\n",
       "    (5): Linear(in_features=16, out_features=8, bias=True)\n",
       "    (6): ReLU()\n",
       "    (7): Linear(in_features=8, out_features=16, bias=True)\n",
       "    (8): ReLU()\n",
       "    (9): Linear(in_features=16, out_features=32, bias=True)\n",
       "    (10): ReLU()\n",
       "    (11): Linear(in_features=32, out_features=10, bias=True)\n",
       "  )\n",
       ")"
      ]
     },
     "execution_count": 23,
     "metadata": {},
     "output_type": "execute_result"
    }
   ],
   "source": [
    "class FashionMNISTModelV1(nn.Module):\n",
    "    def __init__(self, input_shape: int, hidden_units: int, output_shape: int):\n",
    "        super().__init__()\n",
    "        self.network = nn.Sequential(\n",
    "            nn.Flatten(),\n",
    "            nn.Linear(in_features=input_shape, out_features=hidden_units),\n",
    "            nn.ReLU(),\n",
    "            nn.Linear(in_features=hidden_units, out_features=hidden_units//2),\n",
    "            nn.ReLU(),\n",
    "            nn.Linear(in_features=hidden_units//2, out_features=hidden_units//4),\n",
    "            nn.ReLU(),\n",
    "            nn.Linear(in_features=hidden_units//4, out_features=hidden_units//2),\n",
    "            nn.ReLU(),\n",
    "            nn.Linear(in_features=hidden_units//2, out_features=hidden_units),\n",
    "            nn.ReLU(),\n",
    "            nn.Linear(in_features=hidden_units, out_features=output_shape)\n",
    "        )\n",
    "\n",
    "    def forward(self, x: torch.Tensor) -> torch.Tensor:\n",
    "        return self.network(x)\n",
    "\n",
    "\n",
    "model_1 = FashionMNISTModelV1(28*28, 32, len(class_names))\n",
    "model_1"
   ]
  },
  {
   "cell_type": "code",
   "execution_count": 24,
   "id": "394d12c6",
   "metadata": {
    "execution": {
     "iopub.execute_input": "2025-04-13T08:48:33.843444Z",
     "iopub.status.busy": "2025-04-13T08:48:33.843159Z",
     "iopub.status.idle": "2025-04-13T08:48:33.846594Z",
     "shell.execute_reply": "2025-04-13T08:48:33.845949Z"
    },
    "papermill": {
     "duration": 0.015912,
     "end_time": "2025-04-13T08:48:33.847824",
     "exception": false,
     "start_time": "2025-04-13T08:48:33.831912",
     "status": "completed"
    },
    "tags": []
   },
   "outputs": [],
   "source": [
    "criterion = nn.CrossEntropyLoss()\n",
    "optimizer = torch.optim.SGD(params=model_1.parameters(), lr=LEARNING_RATE)"
   ]
  },
  {
   "cell_type": "code",
   "execution_count": 25,
   "id": "265da3e5",
   "metadata": {
    "execution": {
     "iopub.execute_input": "2025-04-13T08:48:33.869801Z",
     "iopub.status.busy": "2025-04-13T08:48:33.869568Z",
     "iopub.status.idle": "2025-04-13T08:49:02.957523Z",
     "shell.execute_reply": "2025-04-13T08:49:02.956601Z"
    },
    "papermill": {
     "duration": 29.100776,
     "end_time": "2025-04-13T08:49:02.959008",
     "exception": false,
     "start_time": "2025-04-13T08:48:33.858232",
     "status": "completed"
    },
    "tags": []
   },
   "outputs": [
    {
     "data": {
      "application/vnd.jupyter.widget-view+json": {
       "model_id": "177fc311fe444abe9f6ba0d6bc698b8d",
       "version_major": 2,
       "version_minor": 0
      },
      "text/plain": [
       "  0%|          | 0/3 [00:00<?, ?it/s]"
      ]
     },
     "metadata": {},
     "output_type": "display_data"
    },
    {
     "name": "stdout",
     "output_type": "stream",
     "text": [
      "Epoch #1\n",
      "=====================\n",
      "Looked at: 0/60000\n",
      "Looked at: 12800/60000\n",
      "Looked at: 25600/60000\n",
      "Looked at: 38400/60000\n",
      "Looked at: 51200/60000\n",
      "Train Loss: 2.28 Train Accuracy: 16.61% | Test Loss: 2.17 Test Accuracy: 22.11%\n",
      "Epoch #2\n",
      "=====================\n",
      "Looked at: 0/60000\n",
      "Looked at: 12800/60000\n",
      "Looked at: 25600/60000\n",
      "Looked at: 38400/60000\n",
      "Looked at: 51200/60000\n",
      "Train Loss: 1.33 Train Accuracy: 47.25% | Test Loss: 0.89 Test Accuracy: 63.95%\n",
      "Epoch #3\n",
      "=====================\n",
      "Looked at: 0/60000\n",
      "Looked at: 12800/60000\n",
      "Looked at: 25600/60000\n",
      "Looked at: 38400/60000\n",
      "Looked at: 51200/60000\n",
      "Train Loss: 0.79 Train Accuracy: 68.63% | Test Loss: 0.70 Test Accuracy: 72.80%\n",
      "Trained for 29.08 second(s) on cpu\n"
     ]
    }
   ],
   "source": [
    "epochs = 3\n",
    "train_start_model_1 = timer()\n",
    "for epoch in tqdm(range(epochs)):\n",
    "    print(f'Epoch #{epoch+1}\\n=====================')\n",
    "    train_loss, train_acc = train(model_1, train_dataloader, criterion, optimizer, acc, 'cpu')\n",
    "    test_loss, test_acc = test(model_1, test_dataloader, criterion, acc, 'cpu')\n",
    "    print(f'Train Loss: {train_loss:.2f} Train Accuracy: {train_acc:.2f}% | Test Loss: {test_loss:.2f} Test Accuracy: {test_acc:.2f}%')\n",
    "train_end_model_1 = timer()\n",
    "model_1_time = print_train_time(start=train_start_model_1, end=train_end_model_1, device='cpu')"
   ]
  },
  {
   "cell_type": "code",
   "execution_count": 26,
   "id": "6a80acf5",
   "metadata": {
    "execution": {
     "iopub.execute_input": "2025-04-13T08:49:02.985589Z",
     "iopub.status.busy": "2025-04-13T08:49:02.985257Z",
     "iopub.status.idle": "2025-04-13T08:49:04.025948Z",
     "shell.execute_reply": "2025-04-13T08:49:04.025161Z"
    },
    "papermill": {
     "duration": 1.054082,
     "end_time": "2025-04-13T08:49:04.027358",
     "exception": false,
     "start_time": "2025-04-13T08:49:02.973276",
     "status": "completed"
    },
    "tags": []
   },
   "outputs": [
    {
     "data": {
      "text/plain": [
       "{'model_name': 'FashionMNISTModelV1',\n",
       " 'test_loss': 0.7032787799835205,\n",
       " 'test_acc': 72.8035143769968}"
      ]
     },
     "execution_count": 26,
     "metadata": {},
     "output_type": "execute_result"
    }
   ],
   "source": [
    "model_1_results = eval_model(model_1, test_dataloader, criterion, acc, 'cpu')\n",
    "model_1_results"
   ]
  },
  {
   "cell_type": "code",
   "execution_count": 27,
   "id": "675388f4",
   "metadata": {
    "execution": {
     "iopub.execute_input": "2025-04-13T08:49:04.061419Z",
     "iopub.status.busy": "2025-04-13T08:49:04.060929Z",
     "iopub.status.idle": "2025-04-13T08:49:04.081218Z",
     "shell.execute_reply": "2025-04-13T08:49:04.080148Z"
    },
    "papermill": {
     "duration": 0.03961,
     "end_time": "2025-04-13T08:49:04.082954",
     "exception": false,
     "start_time": "2025-04-13T08:49:04.043344",
     "status": "completed"
    },
    "tags": []
   },
   "outputs": [
    {
     "data": {
      "text/plain": [
       "FashionMNISTModelV2(\n",
       "  (block_1): Sequential(\n",
       "    (0): Conv2d(1, 16, kernel_size=(3, 3), stride=(1, 1), padding=(1, 1))\n",
       "    (1): ReLU()\n",
       "    (2): Conv2d(16, 16, kernel_size=(3, 3), stride=(1, 1), padding=(1, 1))\n",
       "    (3): ReLU()\n",
       "    (4): MaxPool2d(kernel_size=2, stride=2, padding=1, dilation=1, ceil_mode=False)\n",
       "  )\n",
       "  (block_2): Sequential(\n",
       "    (0): Conv2d(16, 16, kernel_size=(3, 3), stride=(1, 1), padding=(1, 1))\n",
       "    (1): ReLU()\n",
       "    (2): Conv2d(16, 16, kernel_size=(3, 3), stride=(1, 1), padding=(1, 1))\n",
       "    (3): ReLU()\n",
       "    (4): MaxPool2d(kernel_size=2, stride=2, padding=1, dilation=1, ceil_mode=False)\n",
       "  )\n",
       "  (block_3): Sequential(\n",
       "    (0): Conv2d(16, 16, kernel_size=(3, 3), stride=(1, 1), padding=(1, 1))\n",
       "    (1): ReLU()\n",
       "    (2): Conv2d(16, 16, kernel_size=(3, 3), stride=(1, 1), padding=(1, 1))\n",
       "    (3): ReLU()\n",
       "    (4): MaxPool2d(kernel_size=2, stride=2, padding=1, dilation=1, ceil_mode=False)\n",
       "  )\n",
       "  (classifier): Sequential(\n",
       "    (0): Flatten(start_dim=1, end_dim=-1)\n",
       "    (1): Linear(in_features=400, out_features=16, bias=True)\n",
       "    (2): Linear(in_features=16, out_features=10, bias=True)\n",
       "  )\n",
       ")"
      ]
     },
     "execution_count": 27,
     "metadata": {},
     "output_type": "execute_result"
    }
   ],
   "source": [
    "class FashionMNISTModelV2(nn.Module):\n",
    "    def __init__(self, input_shape: int, hidden_units: int, output_shape: int):\n",
    "        super().__init__()\n",
    "        self.block_1 = nn.Sequential(\n",
    "            nn.Conv2d(in_channels=input_shape, out_channels=hidden_units, kernel_size=3, stride=1, padding=1),\n",
    "            nn.ReLU(),\n",
    "            nn.Conv2d(in_channels=hidden_units, out_channels=hidden_units, kernel_size=3, stride=1, padding=1),\n",
    "            nn.ReLU(),\n",
    "            nn.MaxPool2d(kernel_size=2, stride=2, padding=1)\n",
    "        )\n",
    "\n",
    "        self.block_2 = nn.Sequential(\n",
    "            nn.Conv2d(in_channels=hidden_units, out_channels=hidden_units, kernel_size=3, stride=1, padding=1),\n",
    "            nn.ReLU(),\n",
    "            nn.Conv2d(in_channels=hidden_units, out_channels=hidden_units, kernel_size=3, stride=1, padding=1),\n",
    "            nn.ReLU(),\n",
    "            nn.MaxPool2d(kernel_size=2, stride=2, padding=1)\n",
    "        )\n",
    "\n",
    "        self.block_3 = nn.Sequential(\n",
    "            nn.Conv2d(in_channels=hidden_units, out_channels=hidden_units, kernel_size=3, stride=1, padding=1),\n",
    "            nn.ReLU(),\n",
    "            nn.Conv2d(in_channels=hidden_units, out_channels=hidden_units, kernel_size=3, stride=1, padding=1),\n",
    "            nn.ReLU(),\n",
    "            nn.MaxPool2d(kernel_size=2, stride=2, padding=1)\n",
    "        )\n",
    "\n",
    "        self.classifier = nn.Sequential(\n",
    "            nn.Flatten(),\n",
    "            nn.Linear(in_features=hidden_units*5*5, out_features=hidden_units),\n",
    "            nn.Linear(in_features=hidden_units, out_features=output_shape)\n",
    "        )\n",
    "\n",
    "    def forward(self, x: torch.Tensor) -> torch.Tensor:\n",
    "        x = self.block_1(x)\n",
    "        # print(x.shape)\n",
    "        x = self.block_2(x)\n",
    "        # print(x.shape)\n",
    "        x = self.block_3(x)\n",
    "        # print(x.shape)\n",
    "        x = self.classifier(x)\n",
    "        # print(x.shape)\n",
    "        return x\n",
    "\n",
    "\n",
    "model_2 = FashionMNISTModelV2(input_shape=1, hidden_units=16, output_shape=len(class_names))\n",
    "model_2\n"
   ]
  },
  {
   "cell_type": "code",
   "execution_count": 28,
   "id": "c3de019a",
   "metadata": {
    "execution": {
     "iopub.execute_input": "2025-04-13T08:49:04.117616Z",
     "iopub.status.busy": "2025-04-13T08:49:04.117278Z",
     "iopub.status.idle": "2025-04-13T08:49:04.121291Z",
     "shell.execute_reply": "2025-04-13T08:49:04.120471Z"
    },
    "papermill": {
     "duration": 0.024338,
     "end_time": "2025-04-13T08:49:04.122660",
     "exception": false,
     "start_time": "2025-04-13T08:49:04.098322",
     "status": "completed"
    },
    "tags": []
   },
   "outputs": [],
   "source": [
    "criterion = nn.CrossEntropyLoss()\n",
    "optimizer = torch.optim.SGD(params=model_2.parameters(), lr=LEARNING_RATE)"
   ]
  },
  {
   "cell_type": "code",
   "execution_count": 29,
   "id": "89598d7f",
   "metadata": {
    "execution": {
     "iopub.execute_input": "2025-04-13T08:49:04.148936Z",
     "iopub.status.busy": "2025-04-13T08:49:04.148647Z",
     "iopub.status.idle": "2025-04-13T08:51:07.546241Z",
     "shell.execute_reply": "2025-04-13T08:51:07.545382Z"
    },
    "papermill": {
     "duration": 123.41343,
     "end_time": "2025-04-13T08:51:07.547865",
     "exception": false,
     "start_time": "2025-04-13T08:49:04.134435",
     "status": "completed"
    },
    "tags": []
   },
   "outputs": [
    {
     "data": {
      "application/vnd.jupyter.widget-view+json": {
       "model_id": "71fcac58525a4b898e14c053674f236a",
       "version_major": 2,
       "version_minor": 0
      },
      "text/plain": [
       "  0%|          | 0/10 [00:00<?, ?it/s]"
      ]
     },
     "metadata": {},
     "output_type": "display_data"
    },
    {
     "name": "stdout",
     "output_type": "stream",
     "text": [
      "Epoch #1\n",
      "=====================\n",
      "Looked at: 0/60000\n",
      "Looked at: 12800/60000\n",
      "Looked at: 25600/60000\n",
      "Looked at: 38400/60000\n",
      "Looked at: 51200/60000\n",
      "Train Loss: 2.30 Train Accuracy: 9.96% | Test Loss: 2.30 Test Accuracy: 9.98%\n",
      "Epoch #2\n",
      "=====================\n",
      "Looked at: 0/60000\n",
      "Looked at: 12800/60000\n",
      "Looked at: 25600/60000\n",
      "Looked at: 38400/60000\n",
      "Looked at: 51200/60000\n",
      "Train Loss: 2.30 Train Accuracy: 10.04% | Test Loss: 2.30 Test Accuracy: 8.71%\n",
      "Epoch #3\n",
      "=====================\n",
      "Looked at: 0/60000\n",
      "Looked at: 12800/60000\n",
      "Looked at: 25600/60000\n",
      "Looked at: 38400/60000\n",
      "Looked at: 51200/60000\n",
      "Train Loss: 2.30 Train Accuracy: 11.00% | Test Loss: 2.30 Test Accuracy: 14.59%\n",
      "Epoch #4\n",
      "=====================\n",
      "Looked at: 0/60000\n",
      "Looked at: 12800/60000\n",
      "Looked at: 25600/60000\n",
      "Looked at: 38400/60000\n",
      "Looked at: 51200/60000\n",
      "Train Loss: 1.56 Train Accuracy: 43.98% | Test Loss: 0.77 Test Accuracy: 72.07%\n",
      "Epoch #5\n",
      "=====================\n",
      "Looked at: 0/60000\n",
      "Looked at: 12800/60000\n",
      "Looked at: 25600/60000\n",
      "Looked at: 38400/60000\n",
      "Looked at: 51200/60000\n",
      "Train Loss: 0.63 Train Accuracy: 76.93% | Test Loss: 0.56 Test Accuracy: 79.26%\n",
      "Epoch #6\n",
      "=====================\n",
      "Looked at: 0/60000\n",
      "Looked at: 12800/60000\n",
      "Looked at: 25600/60000\n",
      "Looked at: 38400/60000\n",
      "Looked at: 51200/60000\n",
      "Train Loss: 0.50 Train Accuracy: 81.82% | Test Loss: 0.50 Test Accuracy: 82.42%\n",
      "Epoch #7\n",
      "=====================\n",
      "Looked at: 0/60000\n",
      "Looked at: 12800/60000\n",
      "Looked at: 25600/60000\n",
      "Looked at: 38400/60000\n",
      "Looked at: 51200/60000\n",
      "Train Loss: 0.44 Train Accuracy: 84.17% | Test Loss: 0.44 Test Accuracy: 83.92%\n",
      "Epoch #8\n",
      "=====================\n",
      "Looked at: 0/60000\n",
      "Looked at: 12800/60000\n",
      "Looked at: 25600/60000\n",
      "Looked at: 38400/60000\n",
      "Looked at: 51200/60000\n",
      "Train Loss: 0.41 Train Accuracy: 85.16% | Test Loss: 0.43 Test Accuracy: 83.99%\n",
      "Epoch #9\n",
      "=====================\n",
      "Looked at: 0/60000\n",
      "Looked at: 12800/60000\n",
      "Looked at: 25600/60000\n",
      "Looked at: 38400/60000\n",
      "Looked at: 51200/60000\n",
      "Train Loss: 0.38 Train Accuracy: 85.81% | Test Loss: 0.40 Test Accuracy: 85.66%\n",
      "Epoch #10\n",
      "=====================\n",
      "Looked at: 0/60000\n",
      "Looked at: 12800/60000\n",
      "Looked at: 25600/60000\n",
      "Looked at: 38400/60000\n",
      "Looked at: 51200/60000\n",
      "Train Loss: 0.37 Train Accuracy: 86.61% | Test Loss: 0.38 Test Accuracy: 85.99%\n",
      "Trained for 123.39 second(s) on cuda\n"
     ]
    }
   ],
   "source": [
    "epochs = 10\n",
    "train_start_model_2 = timer()\n",
    "for epoch in tqdm(range(epochs)):\n",
    "    print(f'Epoch #{epoch+1}\\n=====================')\n",
    "    train_loss, train_acc = train(model_2, train_dataloader, criterion, optimizer, acc, device)\n",
    "    test_loss, test_acc = test(model_2, test_dataloader, criterion, acc, device)\n",
    "    print(f'Train Loss: {train_loss:.2f} Train Accuracy: {train_acc:.2f}% | Test Loss: {test_loss:.2f} Test Accuracy: {test_acc:.2f}%')\n",
    "train_end_model_2 = timer()\n",
    "model_2_time = print_train_time(start=train_start_model_2, end=train_end_model_2, device=device)"
   ]
  },
  {
   "cell_type": "code",
   "execution_count": 30,
   "id": "966a3dc3",
   "metadata": {
    "execution": {
     "iopub.execute_input": "2025-04-13T08:51:07.576639Z",
     "iopub.status.busy": "2025-04-13T08:51:07.576361Z",
     "iopub.status.idle": "2025-04-13T08:51:08.750362Z",
     "shell.execute_reply": "2025-04-13T08:51:08.749593Z"
    },
    "papermill": {
     "duration": 1.189524,
     "end_time": "2025-04-13T08:51:08.751691",
     "exception": false,
     "start_time": "2025-04-13T08:51:07.562167",
     "status": "completed"
    },
    "tags": []
   },
   "outputs": [
    {
     "data": {
      "text/plain": [
       "{'model_name': 'FashionMNISTModelV2',\n",
       " 'test_loss': 0.37680497765541077,\n",
       " 'test_acc': 85.99241214057508}"
      ]
     },
     "execution_count": 30,
     "metadata": {},
     "output_type": "execute_result"
    }
   ],
   "source": [
    "model_2_results = eval_model(model_2, test_dataloader, criterion, acc, device)\n",
    "model_2_results"
   ]
  },
  {
   "cell_type": "code",
   "execution_count": 31,
   "id": "2a60cc0a",
   "metadata": {
    "execution": {
     "iopub.execute_input": "2025-04-13T08:51:08.780844Z",
     "iopub.status.busy": "2025-04-13T08:51:08.780567Z",
     "iopub.status.idle": "2025-04-13T08:51:08.803663Z",
     "shell.execute_reply": "2025-04-13T08:51:08.802928Z"
    },
    "papermill": {
     "duration": 0.039009,
     "end_time": "2025-04-13T08:51:08.804875",
     "exception": false,
     "start_time": "2025-04-13T08:51:08.765866",
     "status": "completed"
    },
    "tags": []
   },
   "outputs": [
    {
     "data": {
      "text/html": [
       "<div>\n",
       "<style scoped>\n",
       "    .dataframe tbody tr th:only-of-type {\n",
       "        vertical-align: middle;\n",
       "    }\n",
       "\n",
       "    .dataframe tbody tr th {\n",
       "        vertical-align: top;\n",
       "    }\n",
       "\n",
       "    .dataframe thead th {\n",
       "        text-align: right;\n",
       "    }\n",
       "</style>\n",
       "<table border=\"1\" class=\"dataframe\">\n",
       "  <thead>\n",
       "    <tr style=\"text-align: right;\">\n",
       "      <th></th>\n",
       "      <th>model_name</th>\n",
       "      <th>test_loss</th>\n",
       "      <th>test_acc</th>\n",
       "    </tr>\n",
       "  </thead>\n",
       "  <tbody>\n",
       "    <tr>\n",
       "      <th>0</th>\n",
       "      <td>FashionMNISTModelV0</td>\n",
       "      <td>0.686432</td>\n",
       "      <td>76.088259</td>\n",
       "    </tr>\n",
       "    <tr>\n",
       "      <th>1</th>\n",
       "      <td>FashionMNISTModelV1</td>\n",
       "      <td>0.703279</td>\n",
       "      <td>72.803514</td>\n",
       "    </tr>\n",
       "    <tr>\n",
       "      <th>2</th>\n",
       "      <td>FashionMNISTModelV2</td>\n",
       "      <td>0.376805</td>\n",
       "      <td>85.992412</td>\n",
       "    </tr>\n",
       "  </tbody>\n",
       "</table>\n",
       "</div>"
      ],
      "text/plain": [
       "            model_name  test_loss   test_acc\n",
       "0  FashionMNISTModelV0   0.686432  76.088259\n",
       "1  FashionMNISTModelV1   0.703279  72.803514\n",
       "2  FashionMNISTModelV2   0.376805  85.992412"
      ]
     },
     "execution_count": 31,
     "metadata": {},
     "output_type": "execute_result"
    }
   ],
   "source": [
    "results = pd.DataFrame([model_0_results, model_1_results, model_2_results])\n",
    "results"
   ]
  },
  {
   "cell_type": "code",
   "execution_count": 32,
   "id": "10b43489",
   "metadata": {
    "execution": {
     "iopub.execute_input": "2025-04-13T08:51:08.834442Z",
     "iopub.status.busy": "2025-04-13T08:51:08.834166Z",
     "iopub.status.idle": "2025-04-13T08:51:08.843184Z",
     "shell.execute_reply": "2025-04-13T08:51:08.842348Z"
    },
    "papermill": {
     "duration": 0.025303,
     "end_time": "2025-04-13T08:51:08.844625",
     "exception": false,
     "start_time": "2025-04-13T08:51:08.819322",
     "status": "completed"
    },
    "tags": []
   },
   "outputs": [
    {
     "data": {
      "text/html": [
       "<div>\n",
       "<style scoped>\n",
       "    .dataframe tbody tr th:only-of-type {\n",
       "        vertical-align: middle;\n",
       "    }\n",
       "\n",
       "    .dataframe tbody tr th {\n",
       "        vertical-align: top;\n",
       "    }\n",
       "\n",
       "    .dataframe thead th {\n",
       "        text-align: right;\n",
       "    }\n",
       "</style>\n",
       "<table border=\"1\" class=\"dataframe\">\n",
       "  <thead>\n",
       "    <tr style=\"text-align: right;\">\n",
       "      <th></th>\n",
       "      <th>model_name</th>\n",
       "      <th>test_loss</th>\n",
       "      <th>test_acc</th>\n",
       "      <th>training_time</th>\n",
       "    </tr>\n",
       "  </thead>\n",
       "  <tbody>\n",
       "    <tr>\n",
       "      <th>0</th>\n",
       "      <td>FashionMNISTModelV0</td>\n",
       "      <td>0.686432</td>\n",
       "      <td>76.088259</td>\n",
       "      <td>28.610493</td>\n",
       "    </tr>\n",
       "    <tr>\n",
       "      <th>1</th>\n",
       "      <td>FashionMNISTModelV1</td>\n",
       "      <td>0.703279</td>\n",
       "      <td>72.803514</td>\n",
       "      <td>29.082411</td>\n",
       "    </tr>\n",
       "    <tr>\n",
       "      <th>2</th>\n",
       "      <td>FashionMNISTModelV2</td>\n",
       "      <td>0.376805</td>\n",
       "      <td>85.992412</td>\n",
       "      <td>123.391850</td>\n",
       "    </tr>\n",
       "  </tbody>\n",
       "</table>\n",
       "</div>"
      ],
      "text/plain": [
       "            model_name  test_loss   test_acc  training_time\n",
       "0  FashionMNISTModelV0   0.686432  76.088259      28.610493\n",
       "1  FashionMNISTModelV1   0.703279  72.803514      29.082411\n",
       "2  FashionMNISTModelV2   0.376805  85.992412     123.391850"
      ]
     },
     "execution_count": 32,
     "metadata": {},
     "output_type": "execute_result"
    }
   ],
   "source": [
    "results['training_time'] = [\n",
    "    model_0_time,\n",
    "    model_1_time,\n",
    "    model_2_time\n",
    "]\n",
    "\n",
    "results"
   ]
  },
  {
   "cell_type": "code",
   "execution_count": 33,
   "id": "7e916dab",
   "metadata": {
    "execution": {
     "iopub.execute_input": "2025-04-13T08:51:08.874411Z",
     "iopub.status.busy": "2025-04-13T08:51:08.874131Z",
     "iopub.status.idle": "2025-04-13T08:51:09.058365Z",
     "shell.execute_reply": "2025-04-13T08:51:09.057683Z"
    },
    "papermill": {
     "duration": 0.201056,
     "end_time": "2025-04-13T08:51:09.059906",
     "exception": false,
     "start_time": "2025-04-13T08:51:08.858850",
     "status": "completed"
    },
    "tags": []
   },
   "outputs": [
    {
     "data": {
      "text/plain": [
       "Text(0, 0.5, 'Model')"
      ]
     },
     "execution_count": 33,
     "metadata": {},
     "output_type": "execute_result"
    },
    {
     "data": {
      "image/png": "[encoded data removed]",
      "text/plain": [
       "<Figure size 640x480 with 1 Axes>"
      ]
     },
     "metadata": {},
     "output_type": "display_data"
    }
   ],
   "source": [
    "results.set_index('model_name')['test_acc'].plot(kind='barh')\n",
    "plt.xlabel('Accuracy %')\n",
    "plt.ylabel('Model')"
   ]
  },
  {
   "cell_type": "code",
   "execution_count": 34,
   "id": "4a3a58b2",
   "metadata": {
    "execution": {
     "iopub.execute_input": "2025-04-13T08:51:09.090788Z",
     "iopub.status.busy": "2025-04-13T08:51:09.090510Z",
     "iopub.status.idle": "2025-04-13T08:51:09.095164Z",
     "shell.execute_reply": "2025-04-13T08:51:09.094322Z"
    },
    "papermill": {
     "duration": 0.021611,
     "end_time": "2025-04-13T08:51:09.096534",
     "exception": false,
     "start_time": "2025-04-13T08:51:09.074923",
     "status": "completed"
    },
    "tags": []
   },
   "outputs": [],
   "source": [
    "def make_predictions(model: nn.Module, data: list, device: torch.device):\n",
    "    pred_probs = []\n",
    "    model.eval()\n",
    "    with torch.inference_mode():\n",
    "        for sample in data:\n",
    "            sample = torch.unsqueeze(sample, dim=0).to(device)\n",
    "            pred_logit = model(sample)\n",
    "            pred_prob = torch.softmax(pred_logit.squeeze(), dim=0)\n",
    "            pred_probs.append(pred_prob)\n",
    "    return torch.stack(pred_probs)"
   ]
  },
  {
   "cell_type": "code",
   "execution_count": 35,
   "id": "7e57b64c",
   "metadata": {
    "execution": {
     "iopub.execute_input": "2025-04-13T08:51:09.127063Z",
     "iopub.status.busy": "2025-04-13T08:51:09.126746Z",
     "iopub.status.idle": "2025-04-13T08:51:10.049139Z",
     "shell.execute_reply": "2025-04-13T08:51:10.047973Z"
    },
    "papermill": {
     "duration": 0.939191,
     "end_time": "2025-04-13T08:51:10.050502",
     "exception": false,
     "start_time": "2025-04-13T08:51:09.111311",
     "status": "completed"
    },
    "tags": []
   },
   "outputs": [
    {
     "name": "stdout",
     "output_type": "stream",
     "text": [
      "Test sample image shape: torch.Size([1, 28, 28])\n",
      "Test sample label: 1 Trouser\n"
     ]
    }
   ],
   "source": [
    "test_samples = []\n",
    "test_labels = []\n",
    "\n",
    "for sample, label in random.sample(list(test_data), k=9):\n",
    "    test_samples.append(sample)\n",
    "    test_labels.append(label)\n",
    "\n",
    "print(f'Test sample image shape: {test_samples[0].shape}\\nTest sample label: {test_labels[0]} {class_names[test_labels[0]]}')"
   ]
  },
  {
   "cell_type": "code",
   "execution_count": 36,
   "id": "e551c8c3",
   "metadata": {
    "execution": {
     "iopub.execute_input": "2025-04-13T08:51:10.083404Z",
     "iopub.status.busy": "2025-04-13T08:51:10.083102Z",
     "iopub.status.idle": "2025-04-13T08:51:10.348441Z",
     "shell.execute_reply": "2025-04-13T08:51:10.347623Z"
    },
    "papermill": {
     "duration": 0.283697,
     "end_time": "2025-04-13T08:51:10.349746",
     "exception": false,
     "start_time": "2025-04-13T08:51:10.066049",
     "status": "completed"
    },
    "tags": []
   },
   "outputs": [
    {
     "data": {
      "text/plain": [
       "tensor([[5.8456e-05, 9.9987e-01, 2.1176e-06, 7.2729e-06, 5.1414e-05, 2.6935e-08,\n",
       "         8.0661e-06, 9.2823e-08, 4.1772e-08, 4.2463e-08],\n",
       "        [1.1772e-07, 9.3550e-07, 3.0260e-08, 3.3570e-07, 8.0263e-08, 1.1983e-03,\n",
       "         2.7380e-07, 2.2207e-03, 1.1538e-05, 9.9657e-01]], device='cuda:0')"
      ]
     },
     "execution_count": 36,
     "metadata": {},
     "output_type": "execute_result"
    }
   ],
   "source": [
    "pred_probs = make_predictions(model_2, test_samples, device)\n",
    "pred_probs[:2]"
   ]
  },
  {
   "cell_type": "code",
   "execution_count": 37,
   "id": "daf88fb7",
   "metadata": {
    "execution": {
     "iopub.execute_input": "2025-04-13T08:51:10.380300Z",
     "iopub.status.busy": "2025-04-13T08:51:10.380054Z",
     "iopub.status.idle": "2025-04-13T08:51:10.385097Z",
     "shell.execute_reply": "2025-04-13T08:51:10.384466Z"
    },
    "papermill": {
     "duration": 0.02156,
     "end_time": "2025-04-13T08:51:10.386278",
     "exception": false,
     "start_time": "2025-04-13T08:51:10.364718",
     "status": "completed"
    },
    "tags": []
   },
   "outputs": [
    {
     "data": {
      "text/plain": [
       "tensor([1, 9, 0, 0, 9, 4, 6, 0, 9], device='cuda:0')"
      ]
     },
     "execution_count": 37,
     "metadata": {},
     "output_type": "execute_result"
    }
   ],
   "source": [
    "pred_classes = pred_probs.argmax(dim=1)\n",
    "pred_classes"
   ]
  },
  {
   "cell_type": "code",
   "execution_count": 38,
   "id": "b2f846c4",
   "metadata": {
    "execution": {
     "iopub.execute_input": "2025-04-13T08:51:10.461242Z",
     "iopub.status.busy": "2025-04-13T08:51:10.460927Z",
     "iopub.status.idle": "2025-04-13T08:51:10.466901Z",
     "shell.execute_reply": "2025-04-13T08:51:10.465983Z"
    },
    "papermill": {
     "duration": 0.022697,
     "end_time": "2025-04-13T08:51:10.468245",
     "exception": false,
     "start_time": "2025-04-13T08:51:10.445548",
     "status": "completed"
    },
    "tags": []
   },
   "outputs": [
    {
     "data": {
      "text/plain": [
       "([1, 9, 0, 0, 9, 6, 4, 0, 9],\n",
       " tensor([1, 9, 0, 0, 9, 4, 6, 0, 9], device='cuda:0'))"
      ]
     },
     "execution_count": 38,
     "metadata": {},
     "output_type": "execute_result"
    }
   ],
   "source": [
    "test_labels, pred_classes"
   ]
  },
  {
   "cell_type": "code",
   "execution_count": 39,
   "id": "0fd0ff39",
   "metadata": {
    "execution": {
     "iopub.execute_input": "2025-04-13T08:51:10.498683Z",
     "iopub.status.busy": "2025-04-13T08:51:10.498440Z",
     "iopub.status.idle": "2025-04-13T08:51:11.251617Z",
     "shell.execute_reply": "2025-04-13T08:51:11.250672Z"
    },
    "papermill": {
     "duration": 0.769688,
     "end_time": "2025-04-13T08:51:11.252970",
     "exception": false,
     "start_time": "2025-04-13T08:51:10.483282",
     "status": "completed"
    },
    "tags": []
   },
   "outputs": [
    {
     "data": {
      "image/png": "[encoded data removed]",
      "text/plain": [
       "<Figure size 900x900 with 9 Axes>"
      ]
     },
     "metadata": {},
     "output_type": "display_data"
    }
   ],
   "source": [
    "plt.figure(figsize=(9, 9))\n",
    "nrows = 3\n",
    "ncols = 3\n",
    "for i, sample in enumerate(test_samples):\n",
    "  plt.subplot(nrows, ncols, i+1)\n",
    "  plt.imshow(sample.squeeze(), cmap=\"gray\")\n",
    "  pred_label = class_names[pred_classes[i]]\n",
    "  truth_label = class_names[test_labels[i]] \n",
    "  title_text = f\"Pred: {pred_label} | Truth: {truth_label}\"\n",
    "  if pred_label == truth_label:\n",
    "      plt.title(title_text, fontsize=10, c=\"g\") # green text if correct\n",
    "  else:\n",
    "      plt.title(title_text, fontsize=10, c=\"r\") # red text if wrong\n",
    "  plt.axis(False);"
   ]
  },
  {
   "cell_type": "code",
   "execution_count": null,
   "id": "f1eb2c2c",
   "metadata": {
    "papermill": {
     "duration": 0.015462,
     "end_time": "2025-04-13T08:51:11.284725",
     "exception": false,
     "start_time": "2025-04-13T08:51:11.269263",
     "status": "completed"
    },
    "tags": []
   },
   "outputs": [],
   "source": []
  },
  {
   "cell_type": "code",
   "execution_count": null,
   "id": "f0a9d104",
   "metadata": {
    "papermill": {
     "duration": 0.015237,
     "end_time": "2025-04-13T08:51:11.315954",
     "exception": false,
     "start_time": "2025-04-13T08:51:11.300717",
     "status": "completed"
    },
    "tags": []
   },
   "outputs": [],
   "source": []
  }
 ],
 "metadata": {
  "kaggle": {
   "accelerator": "gpu",
   "dataSources": [],
   "dockerImageVersionId": 30918,
   "isGpuEnabled": true,
   "isInternetEnabled": true,
   "language": "python",
   "sourceType": "notebook"
  },
  "kernelspec": {
   "display_name": "Python 3",
   "language": "python",
   "name": "python3"
  },
  "language_info": {
   "codemirror_mode": {
    "name": "ipython",
    "version": 3
   },
   "file_extension": ".py",
   "mimetype": "text/x-python",
   "name": "python",
   "nbconvert_exporter": "python",
   "pygments_lexer": "ipython3",
   "version": "3.10.12"
  },
  "papermill": {
   "default_parameters": {},
   "duration": 204.944788,
   "end_time": "2025-04-13T08:51:13.684699",
   "environment_variables": {},
   "exception": null,
   "input_path": "__notebook__.ipynb",
   "output_path": "__notebook__.ipynb",
   "parameters": {},
   "start_time": "2025-04-13T08:47:48.739911",
   "version": "2.6.0"
  },
  "widgets": {
   "application/vnd.jupyter.widget-state+json": {
    "state": {
     "01dbf7371c0645198558e4e3b3d65afe": {
      "model_module": "@jupyter-widgets/base",
      "model_module_version": "2.0.0",
      "model_name": "LayoutModel",
      "state": {
       "_model_module": "@jupyter-widgets/base",
       "_model_module_version": "2.0.0",
       "_model_name": "LayoutModel",
       "_view_count": null,
       "_view_module": "@jupyter-widgets/base",
       "_view_module_version": "2.0.0",
       "_view_name": "LayoutView",
       "align_content": null,
       "align_items": null,
       "align_self": null,
       "border_bottom": null,
       "border_left": null,
       "border_right": null,
       "border_top": null,
       "bottom": null,
       "display": null,
       "flex": null,
       "flex_flow": null,
       "grid_area": null,
       "grid_auto_columns": null,
       "grid_auto_flow": null,
       "grid_auto_rows": null,
       "grid_column": null,
       "grid_gap": null,
       "grid_row": null,
       "grid_template_areas": null,
       "grid_template_columns": null,
       "grid_template_rows": null,
       "height": null,
       "justify_content": null,
       "justify_items": null,
       "left": null,
       "margin": null,
       "max_height": null,
       "max_width": null,
       "min_height": null,
       "min_width": null,
       "object_fit": null,
       "object_position": null,
       "order": null,
       "overflow": null,
       "padding": null,
       "right": null,
       "top": null,
       "visibility": null,
       "width": null
      }
     },
     "03973963df4e40328e4583a242e072a3": {
      "model_module": "@jupyter-widgets/controls",
      "model_module_version": "2.0.0",
      "model_name": "HTMLModel",
      "state": {
       "_dom_classes": [],
       "_model_module": "@jupyter-widgets/controls",
       "_model_module_version": "2.0.0",
       "_model_name": "HTMLModel",
       "_view_count": null,
       "_view_module": "@jupyter-widgets/controls",
       "_view_module_version": "2.0.0",
       "_view_name": "HTMLView",
       "description": "",
       "description_allow_html": false,
       "layout": "IPY_MODEL_ae12a24f77e44f61b0c0d71756fdf869",
       "placeholder": "​",
       "style": "IPY_MODEL_a810ecd6e01244cc975eb72767d42f8d",
       "tabbable": null,
       "tooltip": null,
       "value": " 3/3 [00:29&lt;00:00,  9.70s/it]"
      }
     },
     "061178219717418abc5c5ca232899a29": {
      "model_module": "@jupyter-widgets/controls",
      "model_module_version": "2.0.0",
      "model_name": "FloatProgressModel",
      "state": {
       "_dom_classes": [],
       "_model_module": "@jupyter-widgets/controls",
       "_model_module_version": "2.0.0",
       "_model_name": "FloatProgressModel",
       "_view_count": null,
       "_view_module": "@jupyter-widgets/controls",
       "_view_module_version": "2.0.0",
       "_view_name": "ProgressView",
       "bar_style": "success",
       "description": "",
       "description_allow_html": false,
       "layout": "IPY_MODEL_01dbf7371c0645198558e4e3b3d65afe",
       "max": 10.0,
       "min": 0.0,
       "orientation": "horizontal",
       "style": "IPY_MODEL_b15c63c4e2d2443d9760112ea56bc64f",
       "tabbable": null,
       "tooltip": null,
       "value": 10.0
      }
     },
     "177fc311fe444abe9f6ba0d6bc698b8d": {
      "model_module": "@jupyter-widgets/controls",
      "model_module_version": "2.0.0",
      "model_name": "HBoxModel",
      "state": {
       "_dom_classes": [],
       "_model_module": "@jupyter-widgets/controls",
       "_model_module_version": "2.0.0",
       "_model_name": "HBoxModel",
       "_view_count": null,
       "_view_module": "@jupyter-widgets/controls",
       "_view_module_version": "2.0.0",
       "_view_name": "HBoxView",
       "box_style": "",
       "children": [
        "IPY_MODEL_aef4a42c3dc54d8eaf5c5db552e08ca4",
        "IPY_MODEL_8c6f5bfcf3834f7f81530c06058005a3",
        "IPY_MODEL_03973963df4e40328e4583a242e072a3"
       ],
       "layout": "IPY_MODEL_647e1583a2cf41da82198e05747d2191",
       "tabbable": null,
       "tooltip": null
      }
     },
     "2506caab184f483a9c2ec5962961eb3f": {
      "model_module": "@jupyter-widgets/controls",
      "model_module_version": "2.0.0",
      "model_name": "HBoxModel",
      "state": {
       "_dom_classes": [],
       "_model_module": "@jupyter-widgets/controls",
       "_model_module_version": "2.0.0",
       "_model_name": "HBoxModel",
       "_view_count": null,
       "_view_module": "@jupyter-widgets/controls",
       "_view_module_version": "2.0.0",
       "_view_name": "HBoxView",
       "box_style": "",
       "children": [
        "IPY_MODEL_37e8060393a743c2bd0bb0cc2837c1e5",
        "IPY_MODEL_9bc05fcedfa549f6a041d280b8cf79a8",
        "IPY_MODEL_fe64eed993f944309c68e064412cdeeb"
       ],
       "layout": "IPY_MODEL_b129cebb601245bd9eb55964593d71f2",
       "tabbable": null,
       "tooltip": null
      }
     },
     "30062cb059524f4b812e8fabf0c47e7f": {
      "model_module": "@jupyter-widgets/base",
      "model_module_version": "2.0.0",
      "model_name": "LayoutModel",
      "state": {
       "_model_module": "@jupyter-widgets/base",
       "_model_module_version": "2.0.0",
       "_model_name": "LayoutModel",
       "_view_count": null,
       "_view_module": "@jupyter-widgets/base",
       "_view_module_version": "2.0.0",
       "_view_name": "LayoutView",
       "align_content": null,
       "align_items": null,
       "align_self": null,
       "border_bottom": null,
       "border_left": null,
       "border_right": null,
       "border_top": null,
       "bottom": null,
       "display": null,
       "flex": null,
       "flex_flow": null,
       "grid_area": null,
       "grid_auto_columns": null,
       "grid_auto_flow": null,
       "grid_auto_rows": null,
       "grid_column": null,
       "grid_gap": null,
       "grid_row": null,
       "grid_template_areas": null,
       "grid_template_columns": null,
       "grid_template_rows": null,
       "height": null,
       "justify_content": null,
       "justify_items": null,
       "left": null,
       "margin": null,
       "max_height": null,
       "max_width": null,
       "min_height": null,
       "min_width": null,
       "object_fit": null,
       "object_position": null,
       "order": null,
       "overflow": null,
       "padding": null,
       "right": null,
       "top": null,
       "visibility": null,
       "width": null
      }
     },
     "37e8060393a743c2bd0bb0cc2837c1e5": {
      "model_module": "@jupyter-widgets/controls",
      "model_module_version": "2.0.0",
      "model_name": "HTMLModel",
      "state": {
       "_dom_classes": [],
       "_model_module": "@jupyter-widgets/controls",
       "_model_module_version": "2.0.0",
       "_model_name": "HTMLModel",
       "_view_count": null,
       "_view_module": "@jupyter-widgets/controls",
       "_view_module_version": "2.0.0",
       "_view_name": "HTMLView",
       "description": "",
       "description_allow_html": false,
       "layout": "IPY_MODEL_30062cb059524f4b812e8fabf0c47e7f",
       "placeholder": "​",
       "style": "IPY_MODEL_5296be56804a4de7bc53bf3945ebf840",
       "tabbable": null,
       "tooltip": null,
       "value": "100%"
      }
     },
     "42b713bd580b45f8ae06473f07e83ea5": {
      "model_module": "@jupyter-widgets/controls",
      "model_module_version": "2.0.0",
      "model_name": "HTMLModel",
      "state": {
       "_dom_classes": [],
       "_model_module": "@jupyter-widgets/controls",
       "_model_module_version": "2.0.0",
       "_model_name": "HTMLModel",
       "_view_count": null,
       "_view_module": "@jupyter-widgets/controls",
       "_view_module_version": "2.0.0",
       "_view_name": "HTMLView",
       "description": "",
       "description_allow_html": false,
       "layout": "IPY_MODEL_5e07fef1b1bb448296e2357b58d95ee2",
       "placeholder": "​",
       "style": "IPY_MODEL_a2ce9e82d7134e1593070bc8a8033a85",
       "tabbable": null,
       "tooltip": null,
       "value": " 10/10 [02:03&lt;00:00, 12.26s/it]"
      }
     },
     "4be6aab039c44a2e9d58764df1a6fd65": {
      "model_module": "@jupyter-widgets/base",
      "model_module_version": "2.0.0",
      "model_name": "LayoutModel",
      "state": {
       "_model_module": "@jupyter-widgets/base",
       "_model_module_version": "2.0.0",
       "_model_name": "LayoutModel",
       "_view_count": null,
       "_view_module": "@jupyter-widgets/base",
       "_view_module_version": "2.0.0",
       "_view_name": "LayoutView",
       "align_content": null,
       "align_items": null,
       "align_self": null,
       "border_bottom": null,
       "border_left": null,
       "border_right": null,
       "border_top": null,
       "bottom": null,
       "display": null,
       "flex": null,
       "flex_flow": null,
       "grid_area": null,
       "grid_auto_columns": null,
       "grid_auto_flow": null,
       "grid_auto_rows": null,
       "grid_column": null,
       "grid_gap": null,
       "grid_row": null,
       "grid_template_areas": null,
       "grid_template_columns": null,
       "grid_template_rows": null,
       "height": null,
       "justify_content": null,
       "justify_items": null,
       "left": null,
       "margin": null,
       "max_height": null,
       "max_width": null,
       "min_height": null,
       "min_width": null,
       "object_fit": null,
       "object_position": null,
       "order": null,
       "overflow": null,
       "padding": null,
       "right": null,
       "top": null,
       "visibility": null,
       "width": null
      }
     },
     "5296be56804a4de7bc53bf3945ebf840": {
      "model_module": "@jupyter-widgets/controls",
      "model_module_version": "2.0.0",
      "model_name": "HTMLStyleModel",
      "state": {
       "_model_module": "@jupyter-widgets/controls",
       "_model_module_version": "2.0.0",
       "_model_name": "HTMLStyleModel",
       "_view_count": null,
       "_view_module": "@jupyter-widgets/base",
       "_view_module_version": "2.0.0",
       "_view_name": "StyleView",
       "background": null,
       "description_width": "",
       "font_size": null,
       "text_color": null
      }
     },
     "5b6a2ce1d4db4b389bcb290a26b9aa53": {
      "model_module": "@jupyter-widgets/base",
      "model_module_version": "2.0.0",
      "model_name": "LayoutModel",
      "state": {
       "_model_module": "@jupyter-widgets/base",
       "_model_module_version": "2.0.0",
       "_model_name": "LayoutModel",
       "_view_count": null,
       "_view_module": "@jupyter-widgets/base",
       "_view_module_version": "2.0.0",
       "_view_name": "LayoutView",
       "align_content": null,
       "align_items": null,
       "align_self": null,
       "border_bottom": null,
       "border_left": null,
       "border_right": null,
       "border_top": null,
       "bottom": null,
       "display": null,
       "flex": null,
       "flex_flow": null,
       "grid_area": null,
       "grid_auto_columns": null,
       "grid_auto_flow": null,
       "grid_auto_rows": null,
       "grid_column": null,
       "grid_gap": null,
       "grid_row": null,
       "grid_template_areas": null,
       "grid_template_columns": null,
       "grid_template_rows": null,
       "height": null,
       "justify_content": null,
       "justify_items": null,
       "left": null,
       "margin": null,
       "max_height": null,
       "max_width": null,
       "min_height": null,
       "min_width": null,
       "object_fit": null,
       "object_position": null,
       "order": null,
       "overflow": null,
       "padding": null,
       "right": null,
       "top": null,
       "visibility": null,
       "width": null
      }
     },
     "5e07fef1b1bb448296e2357b58d95ee2": {
      "model_module": "@jupyter-widgets/base",
      "model_module_version": "2.0.0",
      "model_name": "LayoutModel",
      "state": {
       "_model_module": "@jupyter-widgets/base",
       "_model_module_version": "2.0.0",
       "_model_name": "LayoutModel",
       "_view_count": null,
       "_view_module": "@jupyter-widgets/base",
       "_view_module_version": "2.0.0",
       "_view_name": "LayoutView",
       "align_content": null,
       "align_items": null,
       "align_self": null,
       "border_bottom": null,
       "border_left": null,
       "border_right": null,
       "border_top": null,
       "bottom": null,
       "display": null,
       "flex": null,
       "flex_flow": null,
       "grid_area": null,
       "grid_auto_columns": null,
       "grid_auto_flow": null,
       "grid_auto_rows": null,
       "grid_column": null,
       "grid_gap": null,
       "grid_row": null,
       "grid_template_areas": null,
       "grid_template_columns": null,
       "grid_template_rows": null,
       "height": null,
       "justify_content": null,
       "justify_items": null,
       "left": null,
       "margin": null,
       "max_height": null,
       "max_width": null,
       "min_height": null,
       "min_width": null,
       "object_fit": null,
       "object_position": null,
       "order": null,
       "overflow": null,
       "padding": null,
       "right": null,
       "top": null,
       "visibility": null,
       "width": null
      }
     },
     "647e1583a2cf41da82198e05747d2191": {
      "model_module": "@jupyter-widgets/base",
      "model_module_version": "2.0.0",
      "model_name": "LayoutModel",
      "state": {
       "_model_module": "@jupyter-widgets/base",
       "_model_module_version": "2.0.0",
       "_model_name": "LayoutModel",
       "_view_count": null,
       "_view_module": "@jupyter-widgets/base",
       "_view_module_version": "2.0.0",
       "_view_name": "LayoutView",
       "align_content": null,
       "align_items": null,
       "align_self": null,
       "border_bottom": null,
       "border_left": null,
       "border_right": null,
       "border_top": null,
       "bottom": null,
       "display": null,
       "flex": null,
       "flex_flow": null,
       "grid_area": null,
       "grid_auto_columns": null,
       "grid_auto_flow": null,
       "grid_auto_rows": null,
       "grid_column": null,
       "grid_gap": null,
       "grid_row": null,
       "grid_template_areas": null,
       "grid_template_columns": null,
       "grid_template_rows": null,
       "height": null,
       "justify_content": null,
       "justify_items": null,
       "left": null,
       "margin": null,
       "max_height": null,
       "max_width": null,
       "min_height": null,
       "min_width": null,
       "object_fit": null,
       "object_position": null,
       "order": null,
       "overflow": null,
       "padding": null,
       "right": null,
       "top": null,
       "visibility": null,
       "width": null
      }
     },
     "71fcac58525a4b898e14c053674f236a": {
      "model_module": "@jupyter-widgets/controls",
      "model_module_version": "2.0.0",
      "model_name": "HBoxModel",
      "state": {
       "_dom_classes": [],
       "_model_module": "@jupyter-widgets/controls",
       "_model_module_version": "2.0.0",
       "_model_name": "HBoxModel",
       "_view_count": null,
       "_view_module": "@jupyter-widgets/controls",
       "_view_module_version": "2.0.0",
       "_view_name": "HBoxView",
       "box_style": "",
       "children": [
        "IPY_MODEL_c8346f772d6e4fb68b6d96b2b0c12c44",
        "IPY_MODEL_061178219717418abc5c5ca232899a29",
        "IPY_MODEL_42b713bd580b45f8ae06473f07e83ea5"
       ],
       "layout": "IPY_MODEL_de23fb16e3814af8b4a87764b4ff7253",
       "tabbable": null,
       "tooltip": null
      }
     },
     "7aa325009a2f4cdd84277c07b2e16630": {
      "model_module": "@jupyter-widgets/controls",
      "model_module_version": "2.0.0",
      "model_name": "ProgressStyleModel",
      "state": {
       "_model_module": "@jupyter-widgets/controls",
       "_model_module_version": "2.0.0",
       "_model_name": "ProgressStyleModel",
       "_view_count": null,
       "_view_module": "@jupyter-widgets/base",
       "_view_module_version": "2.0.0",
       "_view_name": "StyleView",
       "bar_color": null,
       "description_width": ""
      }
     },
     "867d4ebf99e642138e3aaf5740f9407d": {
      "model_module": "@jupyter-widgets/base",
      "model_module_version": "2.0.0",
      "model_name": "LayoutModel",
      "state": {
       "_model_module": "@jupyter-widgets/base",
       "_model_module_version": "2.0.0",
       "_model_name": "LayoutModel",
       "_view_count": null,
       "_view_module": "@jupyter-widgets/base",
       "_view_module_version": "2.0.0",
       "_view_name": "LayoutView",
       "align_content": null,
       "align_items": null,
       "align_self": null,
       "border_bottom": null,
       "border_left": null,
       "border_right": null,
       "border_top": null,
       "bottom": null,
       "display": null,
       "flex": null,
       "flex_flow": null,
       "grid_area": null,
       "grid_auto_columns": null,
       "grid_auto_flow": null,
       "grid_auto_rows": null,
       "grid_column": null,
       "grid_gap": null,
       "grid_row": null,
       "grid_template_areas": null,
       "grid_template_columns": null,
       "grid_template_rows": null,
       "height": null,
       "justify_content": null,
       "justify_items": null,
       "left": null,
       "margin": null,
       "max_height": null,
       "max_width": null,
       "min_height": null,
       "min_width": null,
       "object_fit": null,
       "object_position": null,
       "order": null,
       "overflow": null,
       "padding": null,
       "right": null,
       "top": null,
       "visibility": null,
       "width": null
      }
     },
     "8c6f5bfcf3834f7f81530c06058005a3": {
      "model_module": "@jupyter-widgets/controls",
      "model_module_version": "2.0.0",
      "model_name": "FloatProgressModel",
      "state": {
       "_dom_classes": [],
       "_model_module": "@jupyter-widgets/controls",
       "_model_module_version": "2.0.0",
       "_model_name": "FloatProgressModel",
       "_view_count": null,
       "_view_module": "@jupyter-widgets/controls",
       "_view_module_version": "2.0.0",
       "_view_name": "ProgressView",
       "bar_style": "success",
       "description": "",
       "description_allow_html": false,
       "layout": "IPY_MODEL_5b6a2ce1d4db4b389bcb290a26b9aa53",
       "max": 3.0,
       "min": 0.0,
       "orientation": "horizontal",
       "style": "IPY_MODEL_7aa325009a2f4cdd84277c07b2e16630",
       "tabbable": null,
       "tooltip": null,
       "value": 3.0
      }
     },
     "8da0a8a8c2de484b898b1b2814891e23": {
      "model_module": "@jupyter-widgets/controls",
      "model_module_version": "2.0.0",
      "model_name": "HTMLStyleModel",
      "state": {
       "_model_module": "@jupyter-widgets/controls",
       "_model_module_version": "2.0.0",
       "_model_name": "HTMLStyleModel",
       "_view_count": null,
       "_view_module": "@jupyter-widgets/base",
       "_view_module_version": "2.0.0",
       "_view_name": "StyleView",
       "background": null,
       "description_width": "",
       "font_size": null,
       "text_color": null
      }
     },
     "9bc05fcedfa549f6a041d280b8cf79a8": {
      "model_module": "@jupyter-widgets/controls",
      "model_module_version": "2.0.0",
      "model_name": "FloatProgressModel",
      "state": {
       "_dom_classes": [],
       "_model_module": "@jupyter-widgets/controls",
       "_model_module_version": "2.0.0",
       "_model_name": "FloatProgressModel",
       "_view_count": null,
       "_view_module": "@jupyter-widgets/controls",
       "_view_module_version": "2.0.0",
       "_view_name": "ProgressView",
       "bar_style": "success",
       "description": "",
       "description_allow_html": false,
       "layout": "IPY_MODEL_cb0c5bccfe2145d3a90c5a7dc9613c5e",
       "max": 3.0,
       "min": 0.0,
       "orientation": "horizontal",
       "style": "IPY_MODEL_b6381ad00b8549de8f66b04a2d3901d6",
       "tabbable": null,
       "tooltip": null,
       "value": 3.0
      }
     },
     "a2ce9e82d7134e1593070bc8a8033a85": {
      "model_module": "@jupyter-widgets/controls",
      "model_module_version": "2.0.0",
      "model_name": "HTMLStyleModel",
      "state": {
       "_model_module": "@jupyter-widgets/controls",
       "_model_module_version": "2.0.0",
       "_model_name": "HTMLStyleModel",
       "_view_count": null,
       "_view_module": "@jupyter-widgets/base",
       "_view_module_version": "2.0.0",
       "_view_name": "StyleView",
       "background": null,
       "description_width": "",
       "font_size": null,
       "text_color": null
      }
     },
     "a810ecd6e01244cc975eb72767d42f8d": {
      "model_module": "@jupyter-widgets/controls",
      "model_module_version": "2.0.0",
      "model_name": "HTMLStyleModel",
      "state": {
       "_model_module": "@jupyter-widgets/controls",
       "_model_module_version": "2.0.0",
       "_model_name": "HTMLStyleModel",
       "_view_count": null,
       "_view_module": "@jupyter-widgets/base",
       "_view_module_version": "2.0.0",
       "_view_name": "StyleView",
       "background": null,
       "description_width": "",
       "font_size": null,
       "text_color": null
      }
     },
     "ab8bafba12e4424794d718ad1c1cd255": {
      "model_module": "@jupyter-widgets/controls",
      "model_module_version": "2.0.0",
      "model_name": "HTMLStyleModel",
      "state": {
       "_model_module": "@jupyter-widgets/controls",
       "_model_module_version": "2.0.0",
       "_model_name": "HTMLStyleModel",
       "_view_count": null,
       "_view_module": "@jupyter-widgets/base",
       "_view_module_version": "2.0.0",
       "_view_name": "StyleView",
       "background": null,
       "description_width": "",
       "font_size": null,
       "text_color": null
      }
     },
     "ae12a24f77e44f61b0c0d71756fdf869": {
      "model_module": "@jupyter-widgets/base",
      "model_module_version": "2.0.0",
      "model_name": "LayoutModel",
      "state": {
       "_model_module": "@jupyter-widgets/base",
       "_model_module_version": "2.0.0",
       "_model_name": "LayoutModel",
       "_view_count": null,
       "_view_module": "@jupyter-widgets/base",
       "_view_module_version": "2.0.0",
       "_view_name": "LayoutView",
       "align_content": null,
       "align_items": null,
       "align_self": null,
       "border_bottom": null,
       "border_left": null,
       "border_right": null,
       "border_top": null,
       "bottom": null,
       "display": null,
       "flex": null,
       "flex_flow": null,
       "grid_area": null,
       "grid_auto_columns": null,
       "grid_auto_flow": null,
       "grid_auto_rows": null,
       "grid_column": null,
       "grid_gap": null,
       "grid_row": null,
       "grid_template_areas": null,
       "grid_template_columns": null,
       "grid_template_rows": null,
       "height": null,
       "justify_content": null,
       "justify_items": null,
       "left": null,
       "margin": null,
       "max_height": null,
       "max_width": null,
       "min_height": null,
       "min_width": null,
       "object_fit": null,
       "object_position": null,
       "order": null,
       "overflow": null,
       "padding": null,
       "right": null,
       "top": null,
       "visibility": null,
       "width": null
      }
     },
     "aef4a42c3dc54d8eaf5c5db552e08ca4": {
      "model_module": "@jupyter-widgets/controls",
      "model_module_version": "2.0.0",
      "model_name": "HTMLModel",
      "state": {
       "_dom_classes": [],
       "_model_module": "@jupyter-widgets/controls",
       "_model_module_version": "2.0.0",
       "_model_name": "HTMLModel",
       "_view_count": null,
       "_view_module": "@jupyter-widgets/controls",
       "_view_module_version": "2.0.0",
       "_view_name": "HTMLView",
       "description": "",
       "description_allow_html": false,
       "layout": "IPY_MODEL_e3d6f68d4f434eb29f7a48d38990ea17",
       "placeholder": "​",
       "style": "IPY_MODEL_8da0a8a8c2de484b898b1b2814891e23",
       "tabbable": null,
       "tooltip": null,
       "value": "100%"
      }
     },
     "af6e10ccdb3844a8b924928de23808f7": {
      "model_module": "@jupyter-widgets/controls",
      "model_module_version": "2.0.0",
      "model_name": "HTMLStyleModel",
      "state": {
       "_model_module": "@jupyter-widgets/controls",
       "_model_module_version": "2.0.0",
       "_model_name": "HTMLStyleModel",
       "_view_count": null,
       "_view_module": "@jupyter-widgets/base",
       "_view_module_version": "2.0.0",
       "_view_name": "StyleView",
       "background": null,
       "description_width": "",
       "font_size": null,
       "text_color": null
      }
     },
     "b129cebb601245bd9eb55964593d71f2": {
      "model_module": "@jupyter-widgets/base",
      "model_module_version": "2.0.0",
      "model_name": "LayoutModel",
      "state": {
       "_model_module": "@jupyter-widgets/base",
       "_model_module_version": "2.0.0",
       "_model_name": "LayoutModel",
       "_view_count": null,
       "_view_module": "@jupyter-widgets/base",
       "_view_module_version": "2.0.0",
       "_view_name": "LayoutView",
       "align_content": null,
       "align_items": null,
       "align_self": null,
       "border_bottom": null,
       "border_left": null,
       "border_right": null,
       "border_top": null,
       "bottom": null,
       "display": null,
       "flex": null,
       "flex_flow": null,
       "grid_area": null,
       "grid_auto_columns": null,
       "grid_auto_flow": null,
       "grid_auto_rows": null,
       "grid_column": null,
       "grid_gap": null,
       "grid_row": null,
       "grid_template_areas": null,
       "grid_template_columns": null,
       "grid_template_rows": null,
       "height": null,
       "justify_content": null,
       "justify_items": null,
       "left": null,
       "margin": null,
       "max_height": null,
       "max_width": null,
       "min_height": null,
       "min_width": null,
       "object_fit": null,
       "object_position": null,
       "order": null,
       "overflow": null,
       "padding": null,
       "right": null,
       "top": null,
       "visibility": null,
       "width": null
      }
     },
     "b15c63c4e2d2443d9760112ea56bc64f": {
      "model_module": "@jupyter-widgets/controls",
      "model_module_version": "2.0.0",
      "model_name": "ProgressStyleModel",
      "state": {
       "_model_module": "@jupyter-widgets/controls",
       "_model_module_version": "2.0.0",
       "_model_name": "ProgressStyleModel",
       "_view_count": null,
       "_view_module": "@jupyter-widgets/base",
       "_view_module_version": "2.0.0",
       "_view_name": "StyleView",
       "bar_color": null,
       "description_width": ""
      }
     },
     "b6381ad00b8549de8f66b04a2d3901d6": {
      "model_module": "@jupyter-widgets/controls",
      "model_module_version": "2.0.0",
      "model_name": "ProgressStyleModel",
      "state": {
       "_model_module": "@jupyter-widgets/controls",
       "_model_module_version": "2.0.0",
       "_model_name": "ProgressStyleModel",
       "_view_count": null,
       "_view_module": "@jupyter-widgets/base",
       "_view_module_version": "2.0.0",
       "_view_name": "StyleView",
       "bar_color": null,
       "description_width": ""
      }
     },
     "c8346f772d6e4fb68b6d96b2b0c12c44": {
      "model_module": "@jupyter-widgets/controls",
      "model_module_version": "2.0.0",
      "model_name": "HTMLModel",
      "state": {
       "_dom_classes": [],
       "_model_module": "@jupyter-widgets/controls",
       "_model_module_version": "2.0.0",
       "_model_name": "HTMLModel",
       "_view_count": null,
       "_view_module": "@jupyter-widgets/controls",
       "_view_module_version": "2.0.0",
       "_view_name": "HTMLView",
       "description": "",
       "description_allow_html": false,
       "layout": "IPY_MODEL_4be6aab039c44a2e9d58764df1a6fd65",
       "placeholder": "​",
       "style": "IPY_MODEL_ab8bafba12e4424794d718ad1c1cd255",
       "tabbable": null,
       "tooltip": null,
       "value": "100%"
      }
     },
     "cb0c5bccfe2145d3a90c5a7dc9613c5e": {
      "model_module": "@jupyter-widgets/base",
      "model_module_version": "2.0.0",
      "model_name": "LayoutModel",
      "state": {
       "_model_module": "@jupyter-widgets/base",
       "_model_module_version": "2.0.0",
       "_model_name": "LayoutModel",
       "_view_count": null,
       "_view_module": "@jupyter-widgets/base",
       "_view_module_version": "2.0.0",
       "_view_name": "LayoutView",
       "align_content": null,
       "align_items": null,
       "align_self": null,
       "border_bottom": null,
       "border_left": null,
       "border_right": null,
       "border_top": null,
       "bottom": null,
       "display": null,
       "flex": null,
       "flex_flow": null,
       "grid_area": null,
       "grid_auto_columns": null,
       "grid_auto_flow": null,
       "grid_auto_rows": null,
       "grid_column": null,
       "grid_gap": null,
       "grid_row": null,
       "grid_template_areas": null,
       "grid_template_columns": null,
       "grid_template_rows": null,
       "height": null,
       "justify_content": null,
       "justify_items": null,
       "left": null,
       "margin": null,
       "max_height": null,
       "max_width": null,
       "min_height": null,
       "min_width": null,
       "object_fit": null,
       "object_position": null,
       "order": null,
       "overflow": null,
       "padding": null,
       "right": null,
       "top": null,
       "visibility": null,
       "width": null
      }
     },
     "de23fb16e3814af8b4a87764b4ff7253": {
      "model_module": "@jupyter-widgets/base",
      "model_module_version": "2.0.0",
      "model_name": "LayoutModel",
      "state": {
       "_model_module": "@jupyter-widgets/base",
       "_model_module_version": "2.0.0",
       "_model_name": "LayoutModel",
       "_view_count": null,
       "_view_module": "@jupyter-widgets/base",
       "_view_module_version": "2.0.0",
       "_view_name": "LayoutView",
       "align_content": null,
       "align_items": null,
       "align_self": null,
       "border_bottom": null,
       "border_left": null,
       "border_right": null,
       "border_top": null,
       "bottom": null,
       "display": null,
       "flex": null,
       "flex_flow": null,
       "grid_area": null,
       "grid_auto_columns": null,
       "grid_auto_flow": null,
       "grid_auto_rows": null,
       "grid_column": null,
       "grid_gap": null,
       "grid_row": null,
       "grid_template_areas": null,
       "grid_template_columns": null,
       "grid_template_rows": null,
       "height": null,
       "justify_content": null,
       "justify_items": null,
       "left": null,
       "margin": null,
       "max_height": null,
       "max_width": null,
       "min_height": null,
       "min_width": null,
       "object_fit": null,
       "object_position": null,
       "order": null,
       "overflow": null,
       "padding": null,
       "right": null,
       "top": null,
       "visibility": null,
       "width": null
      }
     },
     "e3d6f68d4f434eb29f7a48d38990ea17": {
      "model_module": "@jupyter-widgets/base",
      "model_module_version": "2.0.0",
      "model_name": "LayoutModel",
      "state": {
       "_model_module": "@jupyter-widgets/base",
       "_model_module_version": "2.0.0",
       "_model_name": "LayoutModel",
       "_view_count": null,
       "_view_module": "@jupyter-widgets/base",
       "_view_module_version": "2.0.0",
       "_view_name": "LayoutView",
       "align_content": null,
       "align_items": null,
       "align_self": null,
       "border_bottom": null,
       "border_left": null,
       "border_right": null,
       "border_top": null,
       "bottom": null,
       "display": null,
       "flex": null,
       "flex_flow": null,
       "grid_area": null,
       "grid_auto_columns": null,
       "grid_auto_flow": null,
       "grid_auto_rows": null,
       "grid_column": null,
       "grid_gap": null,
       "grid_row": null,
       "grid_template_areas": null,
       "grid_template_columns": null,
       "grid_template_rows": null,
       "height": null,
       "justify_content": null,
       "justify_items": null,
       "left": null,
       "margin": null,
       "max_height": null,
       "max_width": null,
       "min_height": null,
       "min_width": null,
       "object_fit": null,
       "object_position": null,
       "order": null,
       "overflow": null,
       "padding": null,
       "right": null,
       "top": null,
       "visibility": null,
       "width": null
      }
     },
     "fe64eed993f944309c68e064412cdeeb": {
      "model_module": "@jupyter-widgets/controls",
      "model_module_version": "2.0.0",
      "model_name": "HTMLModel",
      "state": {
       "_dom_classes": [],
       "_model_module": "@jupyter-widgets/controls",
       "_model_module_version": "2.0.0",
       "_model_name": "HTMLModel",
       "_view_count": null,
       "_view_module": "@jupyter-widgets/controls",
       "_view_module_version": "2.0.0",
       "_view_name": "HTMLView",
       "description": "",
       "description_allow_html": false,
       "layout": "IPY_MODEL_867d4ebf99e642138e3aaf5740f9407d",
       "placeholder": "​",
       "style": "IPY_MODEL_af6e10ccdb3844a8b924928de23808f7",
       "tabbable": null,
       "tooltip": null,
       "value": " 3/3 [00:28&lt;00:00,  9.51s/it]"
      }
     }
    },
    "version_major": 2,
    "version_minor": 0
   }
  }
 },
 "nbformat": 4,
 "nbformat_minor": 5
}
